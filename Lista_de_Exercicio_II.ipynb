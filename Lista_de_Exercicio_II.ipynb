{
  "nbformat": 4,
  "nbformat_minor": 0,
  "metadata": {
    "colab": {
      "provenance": [],
      "collapsed_sections": [
        "_rUgkMQpTunK"
      ],
      "authorship_tag": "ABX9TyOS6/0dVCjkKtgBvCaPajOh",
      "include_colab_link": true
    },
    "kernelspec": {
      "name": "python3",
      "display_name": "Python 3"
    },
    "language_info": {
      "name": "python"
    }
  },
  "cells": [
    {
      "cell_type": "markdown",
      "metadata": {
        "id": "view-in-github",
        "colab_type": "text"
      },
      "source": [
        "<a href=\"https://colab.research.google.com/github/EdineyBlasques/ListadeExercicios/blob/main/Lista_de_Exercicio_II.ipynb\" target=\"_parent\"><img src=\"https://colab.research.google.com/assets/colab-badge.svg\" alt=\"Open In Colab\"/></a>"
      ]
    },
    {
      "cell_type": "markdown",
      "source": [
        "##41.LEIA UM NÚMERO INTEIRO E IMPRIMA ATÉ O VALOR 0."
      ],
      "metadata": {
        "id": "fA9XtF1OLGqL"
      }
    },
    {
      "cell_type": "code",
      "source": [
        "#código 1\n",
        "\n",
        "lista=[]\n",
        "while True:\n",
        "  try:\n",
        "    numero=int(input('Digite um numero: \\n'))\n",
        "    break\n",
        "  except ValueError:\n",
        "    print('Por favor digite um número inteiro\\n')\n",
        "\n",
        "if numero<0:\n",
        "  for numeros in range(numero,1):\n",
        "    lista.append(numeros)\n",
        "else:\n",
        "  for numeros in range(0,numero+1):\n",
        "    lista.append(numeros)\n",
        "    \n",
        "if numero<0:\n",
        "  lista.sort(reverse=False)\n",
        "else:\n",
        "  lista.sort(reverse=True)\n",
        "print('\\n')\n",
        "print(lista)\n",
        "  "
      ],
      "metadata": {
        "colab": {
          "base_uri": "https://localhost:8080/"
        },
        "id": "IWuFhxluLIPX",
        "outputId": "bf7e9a9a-ac4d-470d-dd78-425f41ce59a0"
      },
      "execution_count": null,
      "outputs": [
        {
          "output_type": "stream",
          "name": "stdout",
          "text": [
            "Digite um numero: \n",
            "20\n",
            "\n",
            "\n",
            "[20, 19, 18, 17, 16, 15, 14, 13, 12, 11, 10, 9, 8, 7, 6, 5, 4, 3, 2, 1, 0]\n"
          ]
        }
      ]
    },
    {
      "cell_type": "code",
      "source": [
        "#Código 2\n",
        "numDigitado=int(input('Digite um número: '))\n",
        "for numero in range(0,numDigitado+1):\n",
        "  contagem=numDigitado-numero\n",
        "  print(contagem)"
      ],
      "metadata": {
        "colab": {
          "base_uri": "https://localhost:8080/"
        },
        "id": "X48zWlQ3Fj-W",
        "outputId": "aeb78122-7304-4537-dfdd-21db52a26801"
      },
      "execution_count": null,
      "outputs": [
        {
          "name": "stdout",
          "output_type": "stream",
          "text": [
            "Digite um número: -20\n"
          ]
        }
      ]
    },
    {
      "cell_type": "markdown",
      "source": [
        "##42.FAÇA UM PROGRAMA QUE IMPRIME A QUANTIDADE DE NÚMEROS PARES DE 100 ATÉ 200, INCLUINDO- OS.\n"
      ],
      "metadata": {
        "id": "IrOY-EfiLQyw"
      }
    },
    {
      "cell_type": "code",
      "source": [
        "pares=[]\n",
        "impares=[]\n",
        "for par in range(100,201):\n",
        "  if par%2==0:\n",
        "    pares.append(par)\n",
        "  else:\n",
        "    impares.append(par)\n",
        "print(f'A quantidade de números pares entre 100 a 200 é {len(pares)}.')  "
      ],
      "metadata": {
        "id": "GOX0J2-BLSsk",
        "colab": {
          "base_uri": "https://localhost:8080/"
        },
        "outputId": "1ba1e084-cc21-40e4-e917-77223b853140"
      },
      "execution_count": null,
      "outputs": [
        {
          "output_type": "stream",
          "name": "stdout",
          "text": [
            "A quantidade de números pares entre 100 a 200 é 51.\n"
          ]
        }
      ]
    },
    {
      "cell_type": "markdown",
      "source": [
        "##43.FAÇA UM PROGRAMA PARA CONTAR A QUANTIDADE DE NÚMEROS PARES ENTRE DOIS NÚMEROS QUAISQUER\n"
      ],
      "metadata": {
        "id": "VQq6NkWWLUg-"
      }
    },
    {
      "cell_type": "code",
      "source": [
        "while True:\n",
        "  try:\n",
        "    numero_1=int(input('Digite o primeiro número: '))\n",
        "    numero_2=int(input('Digite o segundo número: '))\n",
        "    break\n",
        "  except ValueError:\n",
        "    print('ERROR: Digite um número inteiro!')\n",
        "numerospares=[]\n",
        "numerosimpares=[]\n",
        "for par in range(numero_1,numero_2+1):\n",
        "  if par%2==0:\n",
        "    numerospares.append(par)\n",
        "  else:\n",
        "    numerosimpares.append(par)\n",
        "\n",
        "print(f'A quantidade de números pares entre {numero_1} e {numero_2} é {len(numerospares)}.')\n",
        "print(f'A seguir os números pares: {numerospares}.')\n",
        "    \n"
      ],
      "metadata": {
        "id": "SwIBiZinLWWi",
        "colab": {
          "base_uri": "https://localhost:8080/"
        },
        "outputId": "fa3576c1-e0dd-4712-ce1d-b2d57d17b46e"
      },
      "execution_count": null,
      "outputs": [
        {
          "output_type": "stream",
          "name": "stdout",
          "text": [
            "Digite o primeiro número: 10\n",
            "Digite o segundo número: 20\n",
            "A quantidade de números pares entre 10 e 20 é 6.\n",
            "[10, 12, 14, 16, 18, 20]\n"
          ]
        }
      ]
    },
    {
      "cell_type": "code",
      "source": [
        "while True:\n",
        "  try:\n",
        "    numero_1=int(input('Digite o primeiro número: '))\n",
        "    numero_2=int(input('Digite o segundo número: '))\n",
        "    break\n",
        "  except ValueError:\n",
        "    print('ERROR: Digite um número inteiro!')\n",
        "numerospares=[]\n",
        "numerosimpares=[]\n",
        "if numero_1<numero_2:\n",
        "  for par in range(numero_1,numero_2+1):\n",
        "    if par%2==0:\n",
        "      numerospares.append(par)\n",
        "    else:\n",
        "      numerosimpares.append(par)\n",
        "elif numero_1>numero_2:\n",
        "  numeromenor=numero_2\n",
        "  numeromaior=numero_1\n",
        "  for par in range(numeromenor,numeromaior+1):\n",
        "    if par%2==0:\n",
        "      numerospares.append(par)\n",
        "    else:\n",
        "      numerosimpares.append(par)\n",
        "elif numero_1==numero_2:\n",
        "  print('Números iguais.')\n",
        "print(f'Total de números pares: {len(numerospares)}')\n",
        "print(numerospares)\n",
        "    "
      ],
      "metadata": {
        "colab": {
          "base_uri": "https://localhost:8080/"
        },
        "id": "WI2IhDrVZGL4",
        "outputId": "5147346b-026a-4b4d-b961-b9a3bc3e18ee"
      },
      "execution_count": null,
      "outputs": [
        {
          "output_type": "stream",
          "name": "stdout",
          "text": [
            "Digite o primeiro número: 10\n",
            "Digite o segundo número: 20\n",
            "Total de números pares: 6\n",
            "[10, 12, 14, 16, 18, 20]\n"
          ]
        }
      ]
    },
    {
      "cell_type": "markdown",
      "source": [
        "##44.FAÇA UM PROGRAMA QUE IMPRIME A SOMA DE TODOS OS NÚMEROS PARES ENTRE DOIS NÚMEROS QUAISQUER, INCLUINDO- OS.\n"
      ],
      "metadata": {
        "id": "_rUgkMQpTunK"
      }
    },
    {
      "cell_type": "code",
      "source": [
        "primeiro_numero=int(input('Digite o primeiro número: '))\n",
        "segundo_numero= int(input('Digite o segundo número: '))\n",
        "lista_numero=[]\n",
        "for numeros in range(primeiro_numero,segundo_numero+1):\n",
        "  lista_numero.append(numeros)\n",
        "soma=sum(lista_numero)\n",
        "print(f'\\nA soma de todos os números entre {primeiro_numero} e {segundo_numero} é {soma}.')"
      ],
      "metadata": {
        "colab": {
          "base_uri": "https://localhost:8080/"
        },
        "id": "ibQqAj5zTv4p",
        "outputId": "6f74d376-99e8-472f-fc62-2681e84b593c"
      },
      "execution_count": null,
      "outputs": [
        {
          "output_type": "stream",
          "name": "stdout",
          "text": [
            "Digite o primeiro número: 10\n",
            "Digite o segundo número: 30\n",
            "\n",
            "A soma de todos os números entre 10 e 30 é 420.\n"
          ]
        }
      ]
    },
    {
      "cell_type": "markdown",
      "source": [
        "##45.FAÇA UM PROGRAMA QUE CALCULE O FATORIAL DE UM NÚMERO.\n"
      ],
      "metadata": {
        "id": "cvw7HuO_T1Xz"
      }
    },
    {
      "cell_type": "code",
      "source": [
        "numero=int(input('Digite o valor: '))\n",
        "numero_inicial=numero\n",
        "fatorial=1\n",
        "while numero>0:\n",
        "  fatorial=fatorial*numero\n",
        "  numero=numero-1\n",
        "\n",
        "print(f'Fatorial do numero {numero_inicial} é {fatorial}')"
      ],
      "metadata": {
        "id": "yi0gCz69T2Qp",
        "colab": {
          "base_uri": "https://localhost:8080/"
        },
        "outputId": "06a11687-ac4e-43ba-8ef3-5ef0f0a9a548"
      },
      "execution_count": null,
      "outputs": [
        {
          "output_type": "stream",
          "name": "stdout",
          "text": [
            "Digite o valor: 5\n",
            "Fatorial do numero 5 é 120\n"
          ]
        }
      ]
    },
    {
      "cell_type": "markdown",
      "source": [
        "##46.FAÇA UM PROGRAMA QUE DETERMINE O MOSTRE OS CINCO PRIMEIROS MÚLTIPLOS DE  3, CONSIDERANDO NÚMEROS MAIORES QUE 0.\n"
      ],
      "metadata": {
        "id": "Ys8BbjOOT8J5"
      }
    },
    {
      "cell_type": "code",
      "source": [
        "numero_multiplo=3\n",
        "quantidade=1\n",
        "multiplos=[]\n",
        "for num in range(1,30):\n",
        "  if num%3==0:\n",
        "    multiplos.append(num)\n",
        "print(f'Os três primeiros números multiplos de {numero_multiplo} é {multiplos[:3]}') "
      ],
      "metadata": {
        "id": "SQln9OuyT98I",
        "colab": {
          "base_uri": "https://localhost:8080/"
        },
        "outputId": "5d11621c-b908-459d-c2c1-d5a507f41ffd"
      },
      "execution_count": null,
      "outputs": [
        {
          "output_type": "stream",
          "name": "stdout",
          "text": [
            "Os três primeiros números multiplos de 3 é [3, 6, 9]\n"
          ]
        }
      ]
    },
    {
      "cell_type": "markdown",
      "source": [
        "##47.FAÇA UM ALGORITMO UTILIZANDO O COMANDO WHILE QUE MOSTRA UMA CONTAGEM REGRESSIVA NA TELA, INICIANDO EM 10 E TERMINANDO EM  0 . MOSTRAR UMA MENSAGEM “ FIM!”  APÓS A CONTAGEM.\n"
      ],
      "metadata": {
        "id": "Q0_N7tL_UEXB"
      }
    },
    {
      "cell_type": "code",
      "source": [
        "from time import sleep\n",
        "contagem=10\n",
        "print('Começando a contagem:')\n",
        "while contagem>-1:\n",
        "  print(contagem)\n",
        "  sleep(0.5)\n",
        "  contagem=contagem-1\n",
        "  if contagem==-1:    \n",
        "    print(\"Fim!\")"
      ],
      "metadata": {
        "id": "wNOeaV_MUJAp",
        "colab": {
          "base_uri": "https://localhost:8080/"
        },
        "outputId": "e84efdc3-2a4b-4a74-ade8-0096555e08b9"
      },
      "execution_count": null,
      "outputs": [
        {
          "output_type": "stream",
          "name": "stdout",
          "text": [
            "Começando a contagem:\n",
            "10\n",
            "9\n",
            "8\n",
            "7\n",
            "6\n",
            "5\n",
            "4\n",
            "3\n",
            "2\n",
            "1\n",
            "0\n",
            "Fim!\n"
          ]
        }
      ]
    },
    {
      "cell_type": "markdown",
      "source": [
        "##48.\t FAÇA UM PROGRAMA QUE PEÇA AO USUÁRIO PARA DIGITAR 10 VALORES E SOME- OS."
      ],
      "metadata": {
        "id": "fPw747vGIxlM"
      }
    },
    {
      "cell_type": "code",
      "source": [
        "numeros_soma=[]\n",
        "while len(numeros_soma)<10:\n",
        "  x=int(input('Digite um valor: '))\n",
        "  numeros_soma.append(x)\n",
        "print(f'A soma dos numeros digitados é {sum(numeros_soma)}.')"
      ],
      "metadata": {
        "id": "Zz3VEpMLJNkZ",
        "colab": {
          "base_uri": "https://localhost:8080/"
        },
        "outputId": "97467ce2-55cf-4dbb-ed54-aa17dc0c7e14"
      },
      "execution_count": null,
      "outputs": [
        {
          "output_type": "stream",
          "name": "stdout",
          "text": [
            "Digite um valor: 10\n",
            "Digite um valor: 20\n",
            "Digite um valor: 30\n",
            "Digite um valor: 40\n",
            "Digite um valor: 50\n",
            "Digite um valor: 60\n",
            "Digite um valor: 70\n",
            "Digite um valor: 80\n",
            "Digite um valor: 90\n",
            "Digite um valor: 100\n",
            "A soma dos numeros digitados é 550.\n"
          ]
        }
      ]
    },
    {
      "cell_type": "markdown",
      "source": [
        "##49.FAÇA UM PROGRAMA QUE LEIA 10 INTEIROS E IMPRIMA SUA MÉDIA."
      ],
      "metadata": {
        "id": "l4uI3DigfO_u"
      }
    },
    {
      "cell_type": "code",
      "source": [
        "numeros_inteiros=[]\n",
        "while len(numeros_inteiros)<10:\n",
        "  numero=int(input('Digite um número: '))\n",
        "  numeros_inteiros.append(numero)\n",
        "\n",
        "soma=sum(numeros_inteiros)\n",
        "divisor=len(numeros_inteiros)\n",
        "\n",
        "print(f'\\nA média dos números digitados é {soma/divisor}.')\n",
        "\n",
        "\n"
      ],
      "metadata": {
        "colab": {
          "base_uri": "https://localhost:8080/"
        },
        "id": "kikrQOO-fWZV",
        "outputId": "20b0897d-19d1-4519-f817-9e3fcd1853bd"
      },
      "execution_count": null,
      "outputs": [
        {
          "output_type": "stream",
          "name": "stdout",
          "text": [
            "Digite um número: 10\n",
            "Digite um número: 20\n",
            "Digite um número: 30\n",
            "Digite um número: 40\n",
            "Digite um número: 50\n",
            "Digite um número: 60\n",
            "Digite um número: 70\n",
            "Digite um número: 80\n",
            "Digite um número: 90\n",
            "Digite um número: 100\n",
            "\n",
            "A média dos números digitados é 55.0.\n"
          ]
        }
      ]
    },
    {
      "cell_type": "markdown",
      "source": [
        "##50.\tFAÇA UM PROGRAMA QUE LEIA 10 INTEIROS POSITIVOS, IGNORANDO NAO POSITIVOS, E IMPRIMA SUA MÉDIA."
      ],
      "metadata": {
        "id": "G4f9fSfIi9P_"
      }
    },
    {
      "cell_type": "code",
      "source": [
        "numeroPositivo=[]\n",
        "while len(numeroPositivo)<10:\n",
        "  numeroCaprturado=int(input('Digite o valor: '))\n",
        "  if numeroCaprturado>0:\n",
        "    numeroPositivo.append(numeroCaprturado)\n",
        "  else:\n",
        "    print('Numero invalido')\n",
        "\n",
        "SomaNumero=sum(numeroPositivo)\n",
        "totalDigitado=len(numeroPositivo)\n",
        "\n",
        "print(f'A média dos numeros digitador, somente os positivos, é {SomaNumero/totalDigitado}.')\n"
      ],
      "metadata": {
        "id": "EIPQgUzzjCRz"
      },
      "execution_count": null,
      "outputs": []
    },
    {
      "cell_type": "markdown",
      "source": [
        "##51.\tFAÇA UM PROGRAMA QUE LEIA UM NÚMERO INTEIRO N E DEPOIS IMPRIMA OS N PRIMEIROS NUMEROS NATURAIS ÍMPARES."
      ],
      "metadata": {
        "id": "iaIQTQuToEgM"
      }
    },
    {
      "cell_type": "code",
      "source": [
        "numeroTamanho=int(input(\"Digite a quantidade de numero que deseja vrificar de números impares: \"))\n",
        "imparesnum=[]\n",
        "paress=[]\n",
        "for i in range(1,numeroTamanho*2):\n",
        "  if i%2==1:\n",
        "    imparesnum.append(i)\n",
        "  else:\n",
        "    paress.append(i)\n",
        "\n",
        "imparesnum\n"
      ],
      "metadata": {
        "id": "PZCiTEPTCD9Z",
        "colab": {
          "base_uri": "https://localhost:8080/"
        },
        "outputId": "876df84a-ddc6-4a23-94b2-2b10049159ee"
      },
      "execution_count": null,
      "outputs": [
        {
          "name": "stdout",
          "output_type": "stream",
          "text": [
            "Digite a quantidade de numero que deseja vrificar de números impares10\n"
          ]
        },
        {
          "output_type": "execute_result",
          "data": {
            "text/plain": [
              "[1, 3, 5, 7, 9, 11, 13, 15, 17, 19]"
            ]
          },
          "metadata": {},
          "execution_count": 11
        }
      ]
    },
    {
      "cell_type": "markdown",
      "source": [
        "##52.\tFAÇA UM PROGRAMA QUE CALCULE E MOSTRE A SOMA DOS 50 PRIMEIROS NUMEROS PARES."
      ],
      "metadata": {
        "id": "lIo31I7j16Da"
      }
    },
    {
      "cell_type": "code",
      "source": [
        "numeroTamanho=50\n",
        "imparesnum=[]\n",
        "paress=[]\n",
        "contagem=1\n",
        "for i in range(1,(numeroTamanho*2)+1):\n",
        "  if i%2==1:\n",
        "    imparesnum.append(i)\n",
        "\n",
        "  else:\n",
        "    paress.append(i)\n",
        "\n",
        "print(paress)\n",
        "    \n"
      ],
      "metadata": {
        "colab": {
          "base_uri": "https://localhost:8080/"
        },
        "id": "FxR5K3Qt18P0",
        "outputId": "a090d64f-0686-41c7-e646-584ad1fd1785"
      },
      "execution_count": null,
      "outputs": [
        {
          "output_type": "stream",
          "name": "stdout",
          "text": [
            "[2, 4, 6, 8, 10, 12, 14, 16, 18, 20, 22, 24, 26, 28, 30, 32, 34, 36, 38, 40, 42, 44, 46, 48, 50, 52, 54, 56, 58, 60, 62, 64, 66, 68, 70, 72, 74, 76, 78, 80, 82, 84, 86, 88, 90, 92, 94, 96, 98, 100]\n"
          ]
        }
      ]
    },
    {
      "cell_type": "markdown",
      "source": [
        "##60.\tFAÇA UM PROGRAMA QUE IMPRIME A SOMA DE TODOS OS NÚMEROS ÍMPARES ENTRE DOIS NÚMEROS QUAISQUER, INCLUINDO- OS."
      ],
      "metadata": {
        "id": "lw7vMMsybn1N"
      }
    },
    {
      "cell_type": "code",
      "source": [
        "primeiro_numero=5\n",
        "segundo_numero=24\n",
        "lista_impares=[]\n",
        "for num in range(primeiro_numero,segundo_numero+1,2):\n",
        "  lista_impares.append(num)\n",
        "\n",
        "sum(lista_impares)"
      ],
      "metadata": {
        "colab": {
          "base_uri": "https://localhost:8080/"
        },
        "id": "k7uaoWFSbofy",
        "outputId": "64e56703-a37d-45a1-e67a-5654c6932e64"
      },
      "execution_count": null,
      "outputs": [
        {
          "output_type": "execute_result",
          "data": {
            "text/plain": [
              "140"
            ]
          },
          "metadata": {},
          "execution_count": 18
        }
      ]
    },
    {
      "cell_type": "code",
      "source": [
        "primeiro_numero=int(input('Digite o primeiro numero: '))\n",
        "segundo_numero=int(input('Digite o segundo numero: '))\n",
        "lista_impares=[]\n",
        "for num in range(primeiro_numero,segundo_numero+1):\n",
        "  if num %2 !=0:\n",
        "    lista_impares.append(num)\n",
        "\n",
        "sum(lista_impares)"
      ],
      "metadata": {
        "colab": {
          "base_uri": "https://localhost:8080/"
        },
        "id": "uKNx50tNcQoY",
        "outputId": "ad6b101e-9926-4224-8d9c-ecb4da2af381"
      },
      "execution_count": null,
      "outputs": [
        {
          "name": "stdout",
          "output_type": "stream",
          "text": [
            "Digite o primeiro numero: 4\n",
            "Digite o segundo numero: 82\n"
          ]
        },
        {
          "output_type": "execute_result",
          "data": {
            "text/plain": [
              "1677"
            ]
          },
          "metadata": {},
          "execution_count": 8
        }
      ]
    },
    {
      "cell_type": "code",
      "source": [
        "lista_teste=[]\n",
        "numero1=int(input('Digite o primeiro numero: '))\n",
        "numero2=int(input('Digite o segundo numero: '))\n",
        "for num in range(numero1,numero2+1):\n",
        "  if num%2 !=0 or num/2 ==1:\n",
        "    if num%3 !=0 or num/3 ==1:\n",
        "      if num%5 !=0 or num/5 ==1:\n",
        "        if num%7 !=0 or num/7 ==1:\n",
        "          lista_teste.append(num)\n",
        "            \n",
        "            \n",
        "print(lista_teste)\n",
        "\n",
        "\n"
      ],
      "metadata": {
        "colab": {
          "base_uri": "https://localhost:8080/"
        },
        "id": "w78zkB9XqeRz",
        "outputId": "86da2cb4-f123-46ac-db5c-c3715f9c787c"
      },
      "execution_count": null,
      "outputs": [
        {
          "output_type": "stream",
          "name": "stdout",
          "text": [
            "Digite o primeiro numero: 1\n",
            "Digite o segundo numero: 3\n",
            "[1, 2, 3]\n"
          ]
        }
      ]
    },
    {
      "cell_type": "markdown",
      "source": [
        "##61.\tESCREVA UM PROGRAMA PARA SOMAR TODOS OS I TENS EM UMA LISTA."
      ],
      "metadata": {
        "id": "PR4lUhkfn_tF"
      }
    },
    {
      "cell_type": "code",
      "source": [
        "tamanho=10\n",
        "paress=[]\n",
        "contagem=1\n",
        "for i in range(1,(tamanho)):\n",
        "  if i%2==1:\n",
        "    imparesnum.append(i)\n",
        "\n",
        "  else:\n",
        "    paress.append(i)\n",
        "print(paress) \n",
        "sum(paress)"
      ],
      "metadata": {
        "colab": {
          "base_uri": "https://localhost:8080/"
        },
        "id": "tkgk5x0moICT",
        "outputId": "b6b10569-6242-4ab0-e3ee-60b0bf63d265"
      },
      "execution_count": null,
      "outputs": [
        {
          "output_type": "stream",
          "name": "stdout",
          "text": [
            "[2, 4, 6, 8]\n"
          ]
        },
        {
          "output_type": "execute_result",
          "data": {
            "text/plain": [
              "20"
            ]
          },
          "metadata": {},
          "execution_count": 19
        }
      ]
    },
    {
      "cell_type": "markdown",
      "source": [
        "##62.\tESCREVA UM PROGRAMA PARA MULTIPLICAR TODOS OS I TENS DE UMA L ISTA"
      ],
      "metadata": {
        "id": "02Guirk0o3zZ"
      }
    },
    {
      "cell_type": "code",
      "source": [
        "lista1=[1,2,3,4,5,6,7,8,9,10]\n",
        "x=len(lista1)\n",
        "resultado=1\n",
        "for i in range(0,x):\n",
        "  resultado=lista1[i]*resultado\n",
        "  print(resultado)\n"
      ],
      "metadata": {
        "colab": {
          "base_uri": "https://localhost:8080/"
        },
        "id": "GVUYJ78Po5uh",
        "outputId": "0e7a4edf-51b2-4a78-eb52-ec8f2424acc3"
      },
      "execution_count": null,
      "outputs": [
        {
          "output_type": "stream",
          "name": "stdout",
          "text": [
            "1\n",
            "2\n",
            "6\n",
            "24\n",
            "120\n",
            "720\n",
            "5040\n",
            "40320\n",
            "362880\n",
            "3628800\n"
          ]
        }
      ]
    },
    {
      "cell_type": "markdown",
      "source": [
        "##63.\tESCREVA UM PROGRAMA PARA OBTER O MAIOR NÚMERO DE UMA L ISTA."
      ],
      "metadata": {
        "id": "8sikiz1xqhg3"
      }
    },
    {
      "cell_type": "code",
      "source": [
        "lista2=[1,2,3,4,5,6,7,8,9,20]\n",
        "maximo=max(lista2)\n",
        "print(f'O maior número é {maximo}.')"
      ],
      "metadata": {
        "colab": {
          "base_uri": "https://localhost:8080/"
        },
        "id": "U-46MpIqqi9Z",
        "outputId": "8ce72b9d-4d8a-44e1-ca6f-0f9f17abf326"
      },
      "execution_count": null,
      "outputs": [
        {
          "output_type": "stream",
          "name": "stdout",
          "text": [
            "O maior número é 20.\n"
          ]
        }
      ]
    },
    {
      "cell_type": "markdown",
      "source": [
        "##64.\tESCREVA UM PROGRAMA PARA OBTER O MENOR NÚMERO DE UMA L ISTA."
      ],
      "metadata": {
        "id": "9ioKHyahrbpL"
      }
    },
    {
      "cell_type": "code",
      "source": [
        "lista2=[1,2,3,4,5,6,7,8,9,20]\n",
        "minimo=min(lista2)\n",
        "print(f'O maior número é {minimo}.')"
      ],
      "metadata": {
        "colab": {
          "base_uri": "https://localhost:8080/"
        },
        "id": "ENa2mCKtrfz3",
        "outputId": "f09da42f-e226-40b5-c165-675c50bfa398"
      },
      "execution_count": null,
      "outputs": [
        {
          "output_type": "stream",
          "name": "stdout",
          "text": [
            "O maior número é 1.\n"
          ]
        }
      ]
    },
    {
      "cell_type": "markdown",
      "source": [
        "##65.\tESCREVA UM PROGRAMA PARA REMOVER DUPLICATAS DE UMA L ISTA"
      ],
      "metadata": {
        "id": "f1wSSISBrogt"
      }
    },
    {
      "cell_type": "code",
      "source": [
        "lista3=[1,1,2,2,3,4,5,6,7,7,1,8,9,10,20,100,3]\n",
        "list(set(lista3))"
      ],
      "metadata": {
        "colab": {
          "base_uri": "https://localhost:8080/"
        },
        "id": "L-I_USuQrwuy",
        "outputId": "a5a4b708-2c60-41a4-a741-43e3d39b3eb1"
      },
      "execution_count": null,
      "outputs": [
        {
          "output_type": "execute_result",
          "data": {
            "text/plain": [
              "[1, 2, 3, 4, 5, 6, 7, 8, 9, 10, 100, 20]"
            ]
          },
          "metadata": {},
          "execution_count": 46
        }
      ]
    },
    {
      "cell_type": "code",
      "source": [
        "lista3=[1,1,2,2,3,4,5,6,7,7,1,8,9,10,20,100,3]\n",
        "lista_nova=[]\n",
        "\n",
        "for i in lista3:\n",
        " if i not in lista_nova:\n",
        "   lista_nova.append(i)\n",
        "\n",
        "print(lista_nova)"
      ],
      "metadata": {
        "colab": {
          "base_uri": "https://localhost:8080/"
        },
        "id": "tz30DtrBbehs",
        "outputId": "c351d57a-27ce-4b1a-9df9-1774947d9e8a"
      },
      "execution_count": null,
      "outputs": [
        {
          "output_type": "stream",
          "name": "stdout",
          "text": [
            "[1, 2, 3, 4, 5, 6, 7, 8, 9, 10, 20, 100]\n"
          ]
        }
      ]
    },
    {
      "cell_type": "markdown",
      "source": [
        "##66.\tESCREVA UM PROGRAMA PARA COPIAR UMA L ISTA PARA OUTRA."
      ],
      "metadata": {
        "id": "hQ-lr172tim_"
      }
    },
    {
      "cell_type": "code",
      "source": [
        "lista2=[1,2,3,4,5,6,7,8,9,20]\n",
        "lista4=lista2.copy()\n",
        "print(lista4)"
      ],
      "metadata": {
        "colab": {
          "base_uri": "https://localhost:8080/"
        },
        "id": "gFJneRSItmx8",
        "outputId": "aa47308a-7e67-4997-d1f4-c2a17be0b7ca"
      },
      "execution_count": null,
      "outputs": [
        {
          "output_type": "stream",
          "name": "stdout",
          "text": [
            "[1, 2, 3, 4, 5, 6, 7, 8, 9, 20]\n"
          ]
        }
      ]
    },
    {
      "cell_type": "markdown",
      "source": [
        "##67.\tESCREVA UM PROGRAMA QUE RECEBA DUAS LISTAS E RETORNE TRUE SE ELAS TIVEREM PELO MENOS UM ELEMENTO EM COMUM."
      ],
      "metadata": {
        "id": "tXq5mXPsqL5h"
      }
    },
    {
      "cell_type": "code",
      "source": [
        "lista5=[1,2,3,4,5,6,7,8,9,10]\n",
        "lista6=[11,10,20]\n",
        "condicao=False\n",
        "\n",
        "for i in lista5:\n",
        "  if i in lista6:\n",
        "    condicao=True\n",
        "  else:\n",
        "    condicao=False\n",
        "print(condicao)\n",
        "    \n",
        "\n"
      ],
      "metadata": {
        "id": "WBASb8usY4qT",
        "colab": {
          "base_uri": "https://localhost:8080/"
        },
        "outputId": "0fbaa418-9d86-4472-a8ae-efe765e34f2b"
      },
      "execution_count": null,
      "outputs": [
        {
          "output_type": "stream",
          "name": "stdout",
          "text": [
            "True\n"
          ]
        }
      ]
    },
    {
      "cell_type": "markdown",
      "source": [
        "##68.\tESCREVA UM PROGRAMA PARA CRIAR UMA TUPLA."
      ],
      "metadata": {
        "id": "DjO6DHfdxNRd"
      }
    },
    {
      "cell_type": "code",
      "source": [
        "listateste=[\"ediney\",\"Blasques\"]\n",
        "outro=tuple(listateste)\n",
        "print(outro)"
      ],
      "metadata": {
        "id": "XQI14dhV4DXg",
        "colab": {
          "base_uri": "https://localhost:8080/"
        },
        "outputId": "1cd19b16-0a5c-4112-aec0-44c45ead24b1"
      },
      "execution_count": null,
      "outputs": [
        {
          "output_type": "stream",
          "name": "stdout",
          "text": [
            "('ediney', 'Blasques')\n"
          ]
        }
      ]
    },
    {
      "cell_type": "code",
      "source": [
        "#Somente com numeros inteiros\n",
        "\n",
        "quant=int(input(\"digite a quantidade de numeros que deseja informar: \"))\n",
        "tupla=()\n",
        "for i in range(quant):\n",
        "  dados=int(input(\"Digite o número: \"))\n",
        "  tupla=tupla+tuple([dados])\n",
        "\n",
        "print(tupla)"
      ],
      "metadata": {
        "colab": {
          "base_uri": "https://localhost:8080/"
        },
        "id": "6B2KY_SO-0g6",
        "outputId": "4bd50590-7f79-4fc6-f936-4d62b624b755"
      },
      "execution_count": null,
      "outputs": [
        {
          "output_type": "stream",
          "name": "stdout",
          "text": [
            "digite a quantidade de numeros que deseja informar: 3\n",
            "Digite o número: 20\n",
            "Digite o número: 40\n",
            "Digite o número: 60\n",
            "(20, 40, 60)\n"
          ]
        }
      ]
    },
    {
      "cell_type": "code",
      "source": [
        "#Somente com string\n",
        "\n",
        "quant=int(input(\"digite a quantidade de numeros que deseja informar: \"))\n",
        "tupla=()\n",
        "for i in range(quant):\n",
        "  dados=input(\"Digite o número: \")\n",
        "  tupla=tupla+tuple([dados])\n",
        "\n",
        "print(tupla)"
      ],
      "metadata": {
        "colab": {
          "base_uri": "https://localhost:8080/"
        },
        "id": "yINNZNtcAM0r",
        "outputId": "aef038d7-a9e3-4358-f42e-485f8439e84a"
      },
      "execution_count": null,
      "outputs": [
        {
          "output_type": "stream",
          "name": "stdout",
          "text": [
            "digite a quantidade de numeros que deseja informar: 3\n",
            "Digite o número: ediney\n",
            "Digite o número: blasques\n",
            "Digite o número: eldo\n",
            "('ediney', 'blasques', 'eldo')\n"
          ]
        }
      ]
    },
    {
      "cell_type": "markdown",
      "source": [
        "\n",
        "##69.\tESCREVA UM PROGRAMA PARA CRIAR UMA TUPLA COM DIFERENTES T IPOS DE DADOS."
      ],
      "metadata": {
        "id": "dPGMkpFE9zOT"
      }
    },
    {
      "cell_type": "code",
      "source": [
        "string=input(\"Digite um texto: \")\n",
        "inteiro=int(input(\"digite um número inteiro: \"))\n",
        "decimal=float(input(\"Digite um decimal: \"))\n",
        "tupla_varios_dados=()\n",
        "for i in range(0,3):\n",
        "  tupla_varios_dados=tuple([string,inteiro,decimal])\n",
        "\n",
        "print(tupla_varios_dados)\n"
      ],
      "metadata": {
        "colab": {
          "base_uri": "https://localhost:8080/"
        },
        "id": "QRrELLDg90VL",
        "outputId": "c7f54edb-e00b-4c7e-b1cb-667672f55538"
      },
      "execution_count": null,
      "outputs": [
        {
          "output_type": "stream",
          "name": "stdout",
          "text": [
            "Digite um texto: ediney\n",
            "digite um número inteiro: 19\n",
            "Digite um decimal: 2.6\n",
            "('ediney', 19, 2.6)\n"
          ]
        }
      ]
    },
    {
      "cell_type": "markdown",
      "source": [
        "##70.\tESCREVA UM PROGRAMA PARA CRIAR UMA TUPLA COM NÚMEROS E IMPRIMIR UM I TEM."
      ],
      "metadata": {
        "id": "MQ6_GNRnDxv4"
      }
    },
    {
      "cell_type": "code",
      "source": [
        "tupla_numeros=()\n",
        "for numero in range(5):\n",
        "  Dadoinsert=int(input(\"Digite um número: \"))\n",
        "  tupla_numeros=tupla_numeros+ tuple([Dadoinsert])\n",
        "print(\"A tupla possui 5 números, qual o posição do tupla que deseja visualizar?\")\n",
        "x=int(input())\n",
        "print(\"\\n\")\n",
        "x=x-1\n",
        "if x<5:\n",
        "  print(f'O numero da posição escolhida é {tupla_numeros[x]}.')\n",
        "elif x>5:\n",
        "  print(\"Digite número menor que 5\")"
      ],
      "metadata": {
        "colab": {
          "base_uri": "https://localhost:8080/"
        },
        "id": "qTKvRVZ_Dy-Q",
        "outputId": "284dee1d-5e4f-4759-ec97-ba21492ea4ed"
      },
      "execution_count": null,
      "outputs": [
        {
          "output_type": "stream",
          "name": "stdout",
          "text": [
            "Digite um número: 10\n",
            "Digite um número: 20\n",
            "Digite um número: 30\n",
            "Digite um número: 40\n",
            "Digite um número: 50\n",
            "A tupla possui 5 números, qual o posição do tupla que deseja visualizar?\n",
            "3\n",
            "\n",
            "\n",
            "O numero da posição escolhida é 30.\n"
          ]
        }
      ]
    },
    {
      "cell_type": "markdown",
      "source": [
        "##71.\tESCREVA UM PROGRAMA PARA ADICIONAR UM I TEM EM UMA TUPLA."
      ],
      "metadata": {
        "id": "xqARb1cbG-OY"
      }
    },
    {
      "cell_type": "code",
      "source": [
        "dadosEmTupla=(\"Maçã\",\"Pêra\",\"Morgote\",\"Uva\")\n",
        "novo_dado=input(\"Digite uma fruta que deseja inserir na tupla: \")\n",
        "dadosEmTupla=dadosEmTupla + tuple([novo_dado])\n",
        "print(dadosEmTupla)"
      ],
      "metadata": {
        "colab": {
          "base_uri": "https://localhost:8080/"
        },
        "id": "Ykm29npFG_Oc",
        "outputId": "e2a245d8-64b8-4ba0-de67-7245333e4811"
      },
      "execution_count": null,
      "outputs": [
        {
          "output_type": "stream",
          "name": "stdout",
          "text": [
            "Digite uma fruta que deseja inserir na tupla: Laranja\n",
            "('Maçã', 'Pêra', 'Morgote', 'Uva', 'Laranja')\n"
          ]
        }
      ]
    },
    {
      "cell_type": "markdown",
      "source": [
        "##72.\tESCREVA UM PROGRAMA PARA OBTER O 4 º ELEMENTO E O ÚLTIMO DE UMA TUPLA."
      ],
      "metadata": {
        "id": "MInygbeTKZ4u"
      }
    },
    {
      "cell_type": "code",
      "source": [
        "frutas=(\"Maçã\",\"Pêra\",\"Morgote\",\"Uva\",\"Lichia\",\"Laranja\",\"Melão\",\"Manga\")\n",
        "print(f'O 4º elemento da tupla é {frutas[3]}')\n",
        "print(f'E o ultimo elemento da tupla é {frutas[len(frutas)-1]}')\n"
      ],
      "metadata": {
        "colab": {
          "base_uri": "https://localhost:8080/"
        },
        "id": "9o7e0uZrKan9",
        "outputId": "4df23454-1423-4876-87c8-9dc110bca2e1"
      },
      "execution_count": null,
      "outputs": [
        {
          "output_type": "stream",
          "name": "stdout",
          "text": [
            "O 4º elemento da tupla é: Uva\n",
            "E o ultimo elemento da tupla é Manga\n"
          ]
        }
      ]
    },
    {
      "cell_type": "markdown",
      "source": [
        "##73.\tESCREVA UM PROGRAMA PARA ENCONTRAR OS I TENS REPETIDOS DE UMA TUPLA."
      ],
      "metadata": {
        "id": "slw3E7_PSTVN"
      }
    },
    {
      "cell_type": "code",
      "source": [
        "frutas=(\"Maçã\",\"Pêra\",\"Morgote\",\"Uva\",\"Lichia\",\"Laranja\",\"Melão\",\"Manga\",\"Maçã\",\"Uva\")\n",
        "repetidos=()\n",
        "somente1=()\n",
        "for i in frutas:\n",
        "  if i not in somente1:\n",
        "    somente1=somente1+tuple([i])\n",
        "  else:\n",
        "    repetidos=repetidos+tuple([i])\n",
        "\n",
        "\n",
        "repetidos"
      ],
      "metadata": {
        "colab": {
          "base_uri": "https://localhost:8080/"
        },
        "id": "B8G16D8KSUc_",
        "outputId": "577a5f67-9015-4042-c185-13627b5d035a"
      },
      "execution_count": null,
      "outputs": [
        {
          "output_type": "execute_result",
          "data": {
            "text/plain": [
              "('Maçã', 'Uva')"
            ]
          },
          "metadata": {},
          "execution_count": 57
        }
      ]
    },
    {
      "cell_type": "markdown",
      "source": [
        "##74.\tESCREVA UM PROGRAMA PARA CONVERTER UMA L ISTA EM UMA TUPLA."
      ],
      "metadata": {
        "id": "m8_yztAMhqzI"
      }
    },
    {
      "cell_type": "code",
      "source": [
        "frutas_lista=['Maçã',\"Pêra\",\"Uva\",\"Laranja\",\"Morgote\"]\n",
        "frutas_tupla=tuple(frutas_lista)\n",
        "\n",
        "frutas_tupla"
      ],
      "metadata": {
        "colab": {
          "base_uri": "https://localhost:8080/"
        },
        "id": "w7ZlKLsqhrzS",
        "outputId": "3a86d8e4-36bb-4439-f6cc-e9d42636d2ff"
      },
      "execution_count": null,
      "outputs": [
        {
          "output_type": "execute_result",
          "data": {
            "text/plain": [
              "('Maçã', 'Pêra', 'Uva', 'Laranja', 'Morgote')"
            ]
          },
          "metadata": {},
          "execution_count": 59
        }
      ]
    },
    {
      "cell_type": "markdown",
      "source": [
        "##75.\tESCREVA UM PROGRAMA PARA ADICIONAR UMA CHAVE A UM DICIONÁRIO."
      ],
      "metadata": {
        "id": "CHgKQVyhqcdD"
      }
    },
    {
      "cell_type": "code",
      "source": [
        "dados={'Nome':\"Ediney\",\"Cidade\":\"Paiçandu\",\"Estado\":\"Paraná\"}\n",
        "dados[\"Profissão\"]=\"Auxiliar de Escritório\"\n",
        "\n",
        "dados"
      ],
      "metadata": {
        "colab": {
          "base_uri": "https://localhost:8080/"
        },
        "id": "lTrQNx5dsrct",
        "outputId": "694f23e7-f3da-4b92-8a79-78937e8aba69"
      },
      "execution_count": null,
      "outputs": [
        {
          "output_type": "execute_result",
          "data": {
            "text/plain": [
              "{'Nome': 'Ediney',\n",
              " 'Cidade': 'Paiçandu',\n",
              " 'Estado': 'Paraná',\n",
              " 'Profissão': 'Auxiliar de Escritório'}"
            ]
          },
          "metadata": {},
          "execution_count": 79
        }
      ]
    },
    {
      "cell_type": "code",
      "source": [
        "dados={'Nome':\"Ediney\",\"Cidade\":\"Paiçandu\",\"Estado\":\"Paraná\"}\n",
        "dados.update({\"Profissão\":\"Auxiliar de escrotório\",\"Empresa\":\"Dall Frutas\"})\n",
        "dados"
      ],
      "metadata": {
        "colab": {
          "base_uri": "https://localhost:8080/"
        },
        "id": "0-izlGP4tS2l",
        "outputId": "64b8f806-a286-400a-8ce5-a99c37866bc7"
      },
      "execution_count": null,
      "outputs": [
        {
          "output_type": "execute_result",
          "data": {
            "text/plain": [
              "{'Nome': 'Ediney',\n",
              " 'Cidade': 'Paiçandu',\n",
              " 'Estado': 'Paraná',\n",
              " 'Profissão': 'Auxiliar de escrotório',\n",
              " 'Empresa': 'Dall Frutas'}"
            ]
          },
          "metadata": {},
          "execution_count": 82
        }
      ]
    },
    {
      "cell_type": "markdown",
      "source": [
        "##76.\tCRIE DOIS DICIONÁRIOS DIFERENTES E CONCATENE PARA CRIAR UM NOVO."
      ],
      "metadata": {
        "id": "aEiKLbdLwzRG"
      }
    },
    {
      "cell_type": "code",
      "source": [
        "dados={'Nome':\"Ediney\",\"Cidade\":\"Paiçandu\",\"Estado\":\"Paraná\"}\n",
        "dados1={\"Fruta\":\"Morgote\",\"Preço\":2.50,\"Peso da caixa\":\"20kg\"}\n",
        "dados_gerais={}\n",
        "dados_gerais.update(dados)\n",
        "dados_gerais.update(dados1)\n",
        "\n",
        "dados_gerais"
      ],
      "metadata": {
        "colab": {
          "base_uri": "https://localhost:8080/"
        },
        "id": "5KrjcPR3w0EZ",
        "outputId": "c01e06ad-b69c-42fb-86e6-9da33516dd25"
      },
      "execution_count": null,
      "outputs": [
        {
          "output_type": "execute_result",
          "data": {
            "text/plain": [
              "{'Nome': 'Ediney',\n",
              " 'Cidade': 'Paiçandu',\n",
              " 'Estado': 'Paraná',\n",
              " 'Fruta': 'Morgote',\n",
              " 'Preço': 2.5,\n",
              " 'Peso da caixa': '20kg'}"
            ]
          },
          "metadata": {},
          "execution_count": 84
        }
      ]
    },
    {
      "cell_type": "code",
      "source": [
        "dados={'Nome':\"Ediney\",\"Cidade\":\"Paiçandu\",\"Estado\":\"Paraná\"}\n",
        "dados1={\"Fruta\":\"Morgote\",\"Preço\":2.50,\"Peso da caixa\":\"20kg\"}\n",
        "juncao=()\n",
        "juncao={**dados,**dados1}\n",
        "\n",
        "juncao"
      ],
      "metadata": {
        "colab": {
          "base_uri": "https://localhost:8080/"
        },
        "id": "fShnoaeX0WcY",
        "outputId": "6f45c0ef-654b-4f7a-e1ea-7a991e3020b9"
      },
      "execution_count": null,
      "outputs": [
        {
          "output_type": "execute_result",
          "data": {
            "text/plain": [
              "{'Nome': 'Ediney',\n",
              " 'Cidade': 'Paiçandu',\n",
              " 'Estado': 'Paraná',\n",
              " 'Fruta': 'Morgote',\n",
              " 'Preço': 2.5,\n",
              " 'Peso da caixa': '20kg'}"
            ]
          },
          "metadata": {},
          "execution_count": 86
        }
      ]
    },
    {
      "cell_type": "markdown",
      "source": [
        "##77.\tESCREVA UM PROGRAMA PARA VERIFICAR SE UMA DETERMINADA CHAVE JÁ EXISTE EM UM DICIONÁRIO."
      ],
      "metadata": {
        "id": "4QFGc6QNzheR"
      }
    },
    {
      "cell_type": "code",
      "source": [
        "dados={'Nome':\"Ediney\",\"Cidade\":\"Paiçandu\",\"Estado\":\"Paraná\"}\n",
        "dados_para_inserir=input(\"Digite a chave que deseja verificar: \")\n",
        "if dados_para_inserir in dados:\n",
        "   print(\"Essa chave ja existe.\")\n",
        "else:\n",
        "  print(\"Essa chave ainda não existe.\")"
      ],
      "metadata": {
        "colab": {
          "base_uri": "https://localhost:8080/"
        },
        "id": "vtCDOnn5ziRO",
        "outputId": "c4666b06-78ca-479e-c26e-c610a27296eb"
      },
      "execution_count": 7,
      "outputs": [
        {
          "output_type": "stream",
          "name": "stdout",
          "text": [
            "Digite a chave que deseja verificar: Estado\n",
            "Essa chave ja existe.\n"
          ]
        }
      ]
    },
    {
      "cell_type": "markdown",
      "source": [
        "##78.\tESCREVA UM PROGRAMA PARA ITERAR SOBRE DICIONÁRIOS USANDO LOOPS FOR."
      ],
      "metadata": {
        "id": "TBJERtCxEWwM"
      }
    },
    {
      "cell_type": "code",
      "source": [
        "dados={'Nome':\"Ediney\",\"Cidade\":\"Paiçandu\",\"Estado\":\"Paraná\"}\n",
        "for nome, valor in dados.items():\n",
        "  print(nome,\":\",valor)"
      ],
      "metadata": {
        "colab": {
          "base_uri": "https://localhost:8080/"
        },
        "id": "G-TQHJtcEXu9",
        "outputId": "78f27202-2aa7-4dd0-ca9e-7e49a8e94351"
      },
      "execution_count": 9,
      "outputs": [
        {
          "output_type": "stream",
          "name": "stdout",
          "text": [
            "Nome : Ediney\n",
            "Cidade : Paiçandu\n",
            "Estado : Paraná\n"
          ]
        }
      ]
    },
    {
      "cell_type": "markdown",
      "source": [
        "##79.\tESCREVA UM PROGRAMA PARA MULTIPLICAR TODOS OS ITENS EM UM DICIONÁRIO."
      ],
      "metadata": {
        "id": "AYRuhpbgE-bR"
      }
    },
    {
      "cell_type": "code",
      "source": [
        "dicionario={\"a\":3,\"b\":6,\"c\":10,\"d\":20}\n",
        "valor_multiplicado=1\n",
        "for i in dicionario:\n",
        "  valor_multiplicado=valor_multiplicado*dicionario[i]\n",
        "  print(valor_multiplicado)"
      ],
      "metadata": {
        "colab": {
          "base_uri": "https://localhost:8080/"
        },
        "id": "OEKf3SILE_M6",
        "outputId": "8db95d1a-5318-4912-ec9c-f2830d701787"
      },
      "execution_count": 12,
      "outputs": [
        {
          "output_type": "stream",
          "name": "stdout",
          "text": [
            "3\n",
            "18\n",
            "180\n",
            "3600\n"
          ]
        }
      ]
    },
    {
      "cell_type": "markdown",
      "source": [
        "##80.\tESCREVA UM PROGRAMA PARA REMOVER UMA CHAVE DE UM DICIONÁRIO"
      ],
      "metadata": {
        "id": "9Rv5JfWtFAEo"
      }
    },
    {
      "cell_type": "code",
      "source": [
        "dicionario={\"a\":3,\"b\":6,\"c\":10,\"d\":20}\n",
        "dicionario.pop(\"b\")\n",
        "dicionario"
      ],
      "metadata": {
        "colab": {
          "base_uri": "https://localhost:8080/"
        },
        "id": "dwNnbSI3FEEf",
        "outputId": "f009d274-0eeb-497d-bde9-2a13a327e777"
      },
      "execution_count": 20,
      "outputs": [
        {
          "output_type": "execute_result",
          "data": {
            "text/plain": [
              "{'a': 3, 'c': 10, 'd': 20}"
            ]
          },
          "metadata": {},
          "execution_count": 20
        }
      ]
    }
  ]
}
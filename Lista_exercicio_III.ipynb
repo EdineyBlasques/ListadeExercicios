{
  "nbformat": 4,
  "nbformat_minor": 0,
  "metadata": {
    "colab": {
      "provenance": [],
      "authorship_tag": "ABX9TyOqrmOHr/6SzzpiQQMxtDj/",
      "include_colab_link": true
    },
    "kernelspec": {
      "name": "python3",
      "display_name": "Python 3"
    },
    "language_info": {
      "name": "python"
    }
  },
  "cells": [
    {
      "cell_type": "markdown",
      "metadata": {
        "id": "view-in-github",
        "colab_type": "text"
      },
      "source": [
        "<a href=\"https://colab.research.google.com/github/EdineyBlasques/ListadeExercicios/blob/main/Lista_exercicio_III.ipynb\" target=\"_parent\"><img src=\"https://colab.research.google.com/assets/colab-badge.svg\" alt=\"Open In Colab\"/></a>"
      ]
    },
    {
      "cell_type": "markdown",
      "source": [
        "##81.CRIE UMA FUNÇÃO QUE ACEITA DOIS ARGUMENTOS (NOME E IDADE) E IMPRIMIR SEU VALOR"
      ],
      "metadata": {
        "id": "HVPc9fVDRpGS"
      }
    },
    {
      "cell_type": "code",
      "source": [
        "def dados(nome,idade):\n",
        "  print(f'Seu nome é {nome}.')\n",
        "  print(f'Sua idade é {idade}.')\n",
        "\n",
        "nome=input(\"Digite seu nome: \")\n",
        "idade=int(input(\"Digite sua idade: \"))\n",
        "\n",
        "dados(nome,idade)"
      ],
      "metadata": {
        "colab": {
          "base_uri": "https://localhost:8080/"
        },
        "id": "VuemUL_LRqd3",
        "outputId": "dd04446e-54c6-47d7-f09d-3a2b88bbed70"
      },
      "execution_count": null,
      "outputs": [
        {
          "output_type": "stream",
          "name": "stdout",
          "text": [
            "Digite seu nome: Ediney\n",
            "Digite sua idade: 40\n",
            "Seu nome é Ediney.\n",
            "Sua idade é 40.\n"
          ]
        }
      ]
    },
    {
      "cell_type": "markdown",
      "source": [
        "##82.ESCREVA UMA FUNÇÃO DE FORMA QUE ELA POSSA ACEITAR UM TAMANHO VARIÁVEL DE ARGUMENTO E IMPRIMIR TODOS OS VALORES DOS ARGUMENTOS.\n"
      ],
      "metadata": {
        "id": "Yec3wf9JYf7w"
      }
    },
    {
      "cell_type": "code",
      "source": [
        "def imprimir(*vari1):\n",
        "  for i in vari1:\n",
        "    print(i)\n",
        " \n",
        "imprimir(1,2,3,6,9,5)"
      ],
      "metadata": {
        "id": "kEyDs8_ZYiIv",
        "colab": {
          "base_uri": "https://localhost:8080/"
        },
        "outputId": "20cf38ef-dc95-4075-f39c-38a591053feb"
      },
      "execution_count": null,
      "outputs": [
        {
          "output_type": "stream",
          "name": "stdout",
          "text": [
            "1\n",
            "2\n",
            "3\n",
            "6\n",
            "9\n",
            "5\n"
          ]
        }
      ]
    },
    {
      "cell_type": "markdown",
      "source": [
        "##83.ESCREVA UMA FUNÇÃO QUE POSSA ACEITAR DUAS VARIÁVEIS E CALCULE A ADIÇÃO E SUBTRAÇÃO DELAS. E DEVE RETORNAR ADIÇÃO E SUBTRAÇÃO EM UMA ÚNICA CHAMADA DE RETORNE\n"
      ],
      "metadata": {
        "id": "1kL_6KS4b6rL"
      }
    },
    {
      "cell_type": "code",
      "source": [
        "def adicao_sub(vari1,vari2):\n",
        "  soma=vari1+vari2\n",
        "  menos=vari1-vari2\n",
        "  return soma,menos\n",
        "\n",
        "primeiroNumero=int(input('Digite um número: '))\n",
        "segundoNumero=int(input('Digite um número: '))\n",
        "\n",
        "adicao_sub(primeiroNumero,segundoNumero)"
      ],
      "metadata": {
        "colab": {
          "base_uri": "https://localhost:8080/"
        },
        "id": "t2Wm805vb-Ny",
        "outputId": "0c84460d-c730-4d85-93e6-738c7f3c4ceb"
      },
      "execution_count": null,
      "outputs": [
        {
          "name": "stdout",
          "output_type": "stream",
          "text": [
            "Digite um número: 1\n",
            "Digite um número: 2\n"
          ]
        },
        {
          "output_type": "execute_result",
          "data": {
            "text/plain": [
              "(3, -1)"
            ]
          },
          "metadata": {},
          "execution_count": 9
        }
      ]
    },
    {
      "cell_type": "markdown",
      "source": [
        "##84.CRIE UMA FUNÇÃO QUE ACEITE O NOME DO FUNCIONÁRIO E SEU SALÁRIO E EXIBA AMBOS. SE O SALÁRIO ESTIVER FALTANDO NA CHAMADA DE FUNÇÃO, ATRIBUA O VALOR PADRÃO 1000 AO SALÁRIO."
      ],
      "metadata": {
        "id": "EKQRLcnvcBQ8"
      }
    },
    {
      "cell_type": "code",
      "source": [
        "def funcionario(nome, salario=1000.00):\n",
        "  print(f'O nome do fucionário é {nome}, e o salario é R$ {(salario):.2f}')\n",
        "  return\n",
        "\n",
        "nome=input(\"Digite o nome do funcionário: \")\n",
        "nome=nome.upper()\n",
        "condicao=input('Deseja informar o salario do funcionario? ')\n",
        "condicao=condicao.upper()\n",
        "if condicao ==\"SIM\":\n",
        "  salario=float(input(\"Digite o salário: \"))\n",
        "  funcionario(nome,salario)\n",
        "else:\n",
        "  funcionario(nome)"
      ],
      "metadata": {
        "colab": {
          "base_uri": "https://localhost:8080/"
        },
        "id": "yoqdjDMScEGE",
        "outputId": "50eda286-5a3c-45bb-b494-77676ef9b02b"
      },
      "execution_count": null,
      "outputs": [
        {
          "output_type": "stream",
          "name": "stdout",
          "text": [
            "Digite o nome do funcionário: ediney\n",
            "Deseja informar o salario do funcionario? não\n",
            "O nome do fucionário é EDINEY, e o salario é R$ 1000.00\n"
          ]
        }
      ]
    },
    {
      "cell_type": "markdown",
      "source": [
        "##85.ESCREVA UMA FUNÇÃO RECURSIVA PARA CALCULAR A SOMA DOS NÚMEROS DE 0 A 10"
      ],
      "metadata": {
        "id": "BW_fIZrvcKV8"
      }
    },
    {
      "cell_type": "code",
      "source": [
        "def recursao(n):\n",
        "  listanumero=[]\n",
        "  for i in range(0,n+1):\n",
        "    listanumero.append(i)\n",
        "  soma=sum(listanumero)\n",
        "  return soma\n",
        "\n",
        "recursao(10)"
      ],
      "metadata": {
        "colab": {
          "base_uri": "https://localhost:8080/"
        },
        "id": "pK4JJ5BwcMKj",
        "outputId": "e0811910-7e45-4325-f171-3cc107217be7"
      },
      "execution_count": null,
      "outputs": [
        {
          "output_type": "execute_result",
          "data": {
            "text/plain": [
              "55"
            ]
          },
          "metadata": {},
          "execution_count": 21
        }
      ]
    },
    {
      "cell_type": "markdown",
      "source": [
        "##86.ESCREVA UMA FUNÇÃO E QUANDO FOR USÁ- LA CHAME POR UM NOVO NOME."
      ],
      "metadata": {
        "id": "6rh-hg8ucOIt"
      }
    },
    {
      "cell_type": "code",
      "source": [],
      "metadata": {
        "id": "NNWwf5j0cQKk"
      },
      "execution_count": null,
      "outputs": []
    },
    {
      "cell_type": "markdown",
      "source": [
        "##87.CRIE UMA FUNÇÃO QUE RECEBE COMO PARÂMETRO UM NÚMERO INTEIRO E DEVOLVE O SEU DOBRO."
      ],
      "metadata": {
        "id": "qyfAGh0qcWhE"
      }
    },
    {
      "cell_type": "code",
      "source": [
        "def dobro(n):\n",
        "  if type(n)==int:\n",
        "    n=n*2\n",
        "    return n\n",
        "  else:\n",
        "    return print(\"Não é numero inteiro\")\n",
        "\n",
        "inteiro=int(input(\"Digite um número inteiro: \"))\n",
        "numdobro=dobro(inteiro)\n",
        "print(\"O dobro de %d é %d\" %(inteiro,numdobro))\n",
        "\n",
        "##nesse exemplo todo jeito vai ser inteiro pois inseri um int(input), mas caso chamar o dobro(20.5) ele irá retornar \" Não é inteiro\""
      ],
      "metadata": {
        "colab": {
          "base_uri": "https://localhost:8080/"
        },
        "id": "5Fk_YgrfcYVN",
        "outputId": "2e927c90-b695-4892-8463-b54214550500"
      },
      "execution_count": 30,
      "outputs": [
        {
          "output_type": "stream",
          "name": "stdout",
          "text": [
            "Digite um número inteiro: 10\n",
            "O dobro de 10 é 20\n"
          ]
        }
      ]
    },
    {
      "cell_type": "code",
      "source": [
        "dobro(20.5)"
      ],
      "metadata": {
        "colab": {
          "base_uri": "https://localhost:8080/"
        },
        "id": "O67H_1-vc-p9",
        "outputId": "d4c51c37-a297-4f3d-9e8e-138b02a8f54c"
      },
      "execution_count": 31,
      "outputs": [
        {
          "output_type": "stream",
          "name": "stdout",
          "text": [
            "Não é numero inteiro\n"
          ]
        }
      ]
    },
    {
      "cell_type": "markdown",
      "source": [
        "##88.FAÇA UMA FUNÇÃO PARA VERIFICAR SE UM NÚMERO É POSITIVO OU NEGATIVO. SENDO QUE O VALOR DE RETORNO SERA 1 SE POSITIVO, - 1 SE NEGATIVO E 0 SE FOR IGUAL A 0.\n"
      ],
      "metadata": {
        "id": "S8LUeW0Pcals"
      }
    },
    {
      "cell_type": "code",
      "source": [
        "def verificarCondicao(numero):\n",
        "  if numero>0:\n",
        "    return 1\n",
        "  elif numero==0:\n",
        "    return 0\n",
        "  else:\n",
        "    return -1\n",
        "\n",
        "numero_inserido=int(input(\"Digite um número, tanto positivo ou negativo: \"))\n",
        "verificarCondicao(numero_inserido)"
      ],
      "metadata": {
        "colab": {
          "base_uri": "https://localhost:8080/"
        },
        "id": "14Uv9Y7QccrM",
        "outputId": "dc9caa30-c7ba-474b-b4ac-f6f03e496940"
      },
      "execution_count": null,
      "outputs": [
        {
          "name": "stdout",
          "output_type": "stream",
          "text": [
            "Digite um número, tanto positivo ou negativo: -10\n"
          ]
        },
        {
          "output_type": "execute_result",
          "data": {
            "text/plain": [
              "-1"
            ]
          },
          "metadata": {},
          "execution_count": 52
        }
      ]
    },
    {
      "cell_type": "markdown",
      "source": [
        "##89.FAÇA UMA FUNÇÃO QUE RECEBA DOIS NÚMEROS E RETORNE QUAL DELES É O MAIOR."
      ],
      "metadata": {
        "id": "vgffdBOkcf8S"
      }
    },
    {
      "cell_type": "code",
      "source": [
        "def numero_maior(x,y):\n",
        "  if x>y:\n",
        "    return print(\"o maior número é %d\" %(x))\n",
        "  elif x<y:\n",
        "    return print(\"o maior número é %d\" %(y))\n",
        "  elif x==y:\n",
        "    return print(\"Os numeros digitados são iguais: %d\" %(x))\n",
        "\n",
        "numero1=int(input(\"Digite o primeiro número: \"))\n",
        "numero2= int(input(\"Digite o segundo numero: \"))\n",
        "\n",
        "numero_maior(numero1, numero2)\n"
      ],
      "metadata": {
        "colab": {
          "base_uri": "https://localhost:8080/"
        },
        "id": "thCeTVHcchbz",
        "outputId": "08287c81-07d2-480e-888b-00296a685bcb"
      },
      "execution_count": null,
      "outputs": [
        {
          "output_type": "stream",
          "name": "stdout",
          "text": [
            "Digite o primeiro número: 10\n",
            "Digite o segundo numero: 20\n",
            "o maior número é 20\n"
          ]
        }
      ]
    },
    {
      "cell_type": "markdown",
      "source": [
        "##90.ELABORE UMA FUNÇÃOO QUE RECEBA TRÊS NOTAS DE UM ALUNO COMO PARÂMETROS E UMA LETRA. SE A LETRA FOR A, A FUNÇÃO DEVERÁ CALCULAR A MÉDIA ARITMÉTICA DAS NOTAS DO ALUNO; SE FOR P, DEVERÁ CALCULAR A MÉDIA PONDERADA, COM PESOS 5, 3 E 2."
      ],
      "metadata": {
        "id": "e1eyf10tclvY"
      }
    },
    {
      "cell_type": "code",
      "source": [
        "def notas(x,y,z,s):\n",
        "  if s==\"A\":\n",
        "    total=(x+y+z)/3\n",
        "    return print('A média aritmética das notas inseridas é %d' %d(total))\n",
        "  elif s==\"P\":\n",
        "    x=x*5\n",
        "    y=y*3\n",
        "    z=z*2\n",
        "    mediapon=(x+y+z)/(5+3+2)\n",
        "    return print('A média ponderada das notas inseridas é %d' %(mediapon))\n",
        "  else:\n",
        "    return print(\"Valor incorreto\")\n",
        "\n",
        "nota1=int(input(\"Digite a primeira nota: \"))\n",
        "nota2=int(input(\"Digite a segunda nota: \"))\n",
        "nota3=int(input(\"Digite a terceira nota: \"))\n",
        "media=input(\"digite A para calcular média aritmética ou P para média ponderada: \")\n",
        "media=media.upper()\n",
        "notas(nota1,nota2,nota3,media)\n",
        "\n"
      ],
      "metadata": {
        "colab": {
          "base_uri": "https://localhost:8080/"
        },
        "id": "bfziflPncn6s",
        "outputId": "5386f00a-fa8c-4b4a-c337-84249f5f1e16"
      },
      "execution_count": null,
      "outputs": [
        {
          "output_type": "stream",
          "name": "stdout",
          "text": [
            "Digite a primeira nota: 10\n",
            "Digite a segunda nota: 6\n",
            "Digite a terceira nota: 9\n",
            "digite A para calcular média aritmética ou P para média ponderada: p\n",
            "A média ponderada das notas inseridas é 8\n"
          ]
        }
      ]
    },
    {
      "cell_type": "markdown",
      "source": [
        "##91.FAÇA UMA FUNÇÃO QUE RECEBA DOIS NÚMEROS INTEIROS POSITIVOS POR PARÂMETRO E RETORNE A SOMA DOS N NUMEROS INTEIROS EXISTENTES ENTRE ELES."
      ],
      "metadata": {
        "id": "1al6rRQpcuWt"
      }
    },
    {
      "cell_type": "code",
      "source": [
        "def somanumeros(n,x):\n",
        "  y=0\n",
        "  for i in range(n,x):\n",
        "    y=y+i\n",
        "  return y\n",
        "\n",
        "somanumeros(1,5)\n",
        "    "
      ],
      "metadata": {
        "id": "zApbaKKmcwj5",
        "colab": {
          "base_uri": "https://localhost:8080/"
        },
        "outputId": "1efa59fb-06f0-49b0-e78b-94d3f4c52964"
      },
      "execution_count": null,
      "outputs": [
        {
          "output_type": "execute_result",
          "data": {
            "text/plain": [
              "10"
            ]
          },
          "metadata": {},
          "execution_count": 2
        }
      ]
    },
    {
      "cell_type": "markdown",
      "source": [
        "##92.FAÇA UMA FUNÇÃO QUE RECEBA A ALTURA E O RAIO DE UM CILINDRO CIRCULAR E RETORNE O VOLUME DO CILINDRO. "
      ],
      "metadata": {
        "id": "GHAp5kUkcy_A"
      }
    },
    {
      "cell_type": "code",
      "source": [
        "def volume(altura, raio):\n",
        "  import math\n",
        "  volume=math.pi*altura*raio*raio\n",
        "  return print(f'O volume do cilindro é {(volume):.2f}.')\n",
        "\n",
        "altura=float(input('Digite a altura do cilindro: '))\n",
        "raio=float(input('Digite o raio do cilindro: '))\n",
        "\n",
        "volume(altura, raio)\n"
      ],
      "metadata": {
        "id": "iz5--Qpoc08F",
        "colab": {
          "base_uri": "https://localhost:8080/"
        },
        "outputId": "abfd2a6e-3257-4ec5-e4ed-4f5fe422107b"
      },
      "execution_count": null,
      "outputs": [
        {
          "output_type": "stream",
          "name": "stdout",
          "text": [
            "Digite a altura do cilindro: 10\n",
            "Digite o raio do cilindro: 2\n",
            "O volume do cilindro é 125.66.\n"
          ]
        }
      ]
    },
    {
      "cell_type": "code",
      "source": [
        "def volume():\n",
        "  altura=float(input('Digite a altura do cilindro: '))\n",
        "  raio=float(input('Digite o raio do cilindro: '))\n",
        "  import math\n",
        "  volume=math.pi*altura*raio*raio\n",
        "  return print(f'O volume do cilindro é {(volume):.2f}.')\n",
        "\n",
        "volume()"
      ],
      "metadata": {
        "colab": {
          "base_uri": "https://localhost:8080/"
        },
        "id": "vtaMGSG8u_5r",
        "outputId": "761f8cce-50bb-4c6b-e79f-90f0b8bc4a5c"
      },
      "execution_count": null,
      "outputs": [
        {
          "output_type": "stream",
          "name": "stdout",
          "text": [
            "Digite a altura do cilindro: 10\n",
            "Digite o raio do cilindro: 2\n",
            "O volume do cilindro é 125.66.\n"
          ]
        }
      ]
    },
    {
      "cell_type": "markdown",
      "source": [
        "##93. ESCREVA UMA FUNÇÃO QUE RECEBE UM NÚMERO REAL COMO ARGUMENTO E RETORNA O VALOR ABSOLUTO DESSE NÚMERO.\n"
      ],
      "metadata": {
        "id": "wToazCy4c30m"
      }
    },
    {
      "cell_type": "code",
      "source": [
        "def valorAbsoluto(x):\n",
        "  if x<0:\n",
        "    print(f'O valor absoluto do número é {abs(x)}')\n",
        "  else:\n",
        "    return print(\"O valor absoluto do numero digitado é %d\" %(x))\n",
        "\n",
        "numero=float(input('Digite um numero real: '))\n",
        "\n",
        "valorAbsoluto(numero)\n"
      ],
      "metadata": {
        "id": "8fZT_Lpbc6pU",
        "colab": {
          "base_uri": "https://localhost:8080/"
        },
        "outputId": "f78b4349-44ff-487a-e7a9-71d5093ad9b2"
      },
      "execution_count": null,
      "outputs": [
        {
          "output_type": "stream",
          "name": "stdout",
          "text": [
            "Digite um numero real: 2\n",
            "O valor absoluto do numero digitado é 2\n"
          ]
        }
      ]
    },
    {
      "cell_type": "markdown",
      "source": [
        "##94.ESCREVA UMA FUNÇÃO QUE RECEBA DOIS NÚMERO INTEIRO (N E P) COMO ARGUMENTO E RETORNA N ELEVADO A P SE N FOR MAIOR QUE P , CASO CONTRÁRIO RETORNE A RAIZ QUADRADA DE N. "
      ],
      "metadata": {
        "id": "1yZXwkH7c81f"
      }
    },
    {
      "cell_type": "code",
      "source": [
        "import math\n",
        "def numeros(n,p):\n",
        "  if n>p:\n",
        "    elevado=n**p\n",
        "    return print('O numero %d elevado a %d é %d' %(n,p,elevado))\n",
        "  elif n<p:\n",
        "    raiz=math.pow(n,1/2)\n",
        "    return print(\"A raiz quadrada de %d é %d\" %(n,raiz))\n",
        "\n",
        "    \n",
        "numeros(4,9)\n"
      ],
      "metadata": {
        "id": "9hTz6o20c-ug",
        "colab": {
          "base_uri": "https://localhost:8080/"
        },
        "outputId": "5576100f-c5b3-45f3-cc61-82c4350b85e2"
      },
      "execution_count": null,
      "outputs": [
        {
          "output_type": "stream",
          "name": "stdout",
          "text": [
            "A raiz quadrada de 4 é 2\n"
          ]
        }
      ]
    },
    {
      "cell_type": "markdown",
      "source": [
        "##95.ESCREVA UMA FUNÇÃO PARA SOMAR TODOS OS NÚMEROS EM UMA LISTA.\n"
      ],
      "metadata": {
        "id": "mvta_hR0dBol"
      }
    },
    {
      "cell_type": "code",
      "source": [
        "def somartodos(lista):\n",
        "  soma=sum(n)\n",
        "  return soma\n",
        "\n",
        "numeros=[1,2,3,4,5,6]\n",
        "somartodos(numeros)"
      ],
      "metadata": {
        "id": "cKHYyjcddECB",
        "colab": {
          "base_uri": "https://localhost:8080/"
        },
        "outputId": "60814855-7db6-4e95-b9a1-684d2d6fadd8"
      },
      "execution_count": null,
      "outputs": [
        {
          "output_type": "execute_result",
          "data": {
            "text/plain": [
              "21"
            ]
          },
          "metadata": {},
          "execution_count": 12
        }
      ]
    },
    {
      "cell_type": "markdown",
      "source": [
        "##96.. ESCREVA UMA FUNÇÃO PARA MULTIPLICAR TODOS OS NÚMEROS EM UMA LISTA."
      ],
      "metadata": {
        "id": "asivpAjPdGhy"
      }
    },
    {
      "cell_type": "code",
      "source": [
        "def multiplicar(lista):\n",
        "  x=1\n",
        "  for i in lista:\n",
        "    x=x*i\n",
        "  \n",
        "  return x\n",
        "\n",
        "numeros=[1,2,3,4,5,6]\n",
        "multiplicar(numeros)"
      ],
      "metadata": {
        "id": "_XOp2s7SdJd6",
        "colab": {
          "base_uri": "https://localhost:8080/"
        },
        "outputId": "89ee5825-f349-496a-f10a-7d8176f37546"
      },
      "execution_count": null,
      "outputs": [
        {
          "output_type": "execute_result",
          "data": {
            "text/plain": [
              "720"
            ]
          },
          "metadata": {},
          "execution_count": 1
        }
      ]
    },
    {
      "cell_type": "markdown",
      "source": [
        "##97.ESCREVA UMA FUNÇÃO PARA VERIFICAR SE UM NÚMERO ESTÁ EM UM DETERMINADO INTERVALO."
      ],
      "metadata": {
        "id": "0uPApMuQdLU7"
      }
    },
    {
      "cell_type": "code",
      "source": [
        "def verificar_numero(inicio,fim,numero):\n",
        "  listanumero=[]\n",
        "  for num in range(inicio,fim+1):\n",
        "    listanumero.append(num)\n",
        "  if numero in listanumero:\n",
        "    return(print('O numero esta no intervalo'))\n",
        "  else:\n",
        "    return print('O numero não esta no numero')\n",
        "\n",
        "\n",
        "inicio_intervalo=int(input('Digite o inicio do intervalo: '))\n",
        "fim_intervalo=int(input('Digite o fim do intervalo: '))\n",
        "numero_desejado=int(input(\"digite o numero que deseja procurar: \"))\n",
        "\n",
        "verificar_numero(inicio_intervalo,fim_intervalo,numero_desejado)"
      ],
      "metadata": {
        "id": "LGYfptEQdNSj",
        "colab": {
          "base_uri": "https://localhost:8080/"
        },
        "outputId": "0839d9a0-6b3f-4199-f9c7-92c6409a0bbb"
      },
      "execution_count": null,
      "outputs": [
        {
          "output_type": "stream",
          "name": "stdout",
          "text": [
            "Digite o inicio do intervalo: 1\n",
            "Digite o fim do intervalo: 10\n",
            "digite o numero que deseja procurar: 5\n",
            "O numero esta no intervalo\n"
          ]
        }
      ]
    },
    {
      "cell_type": "markdown",
      "source": [
        "##98.. ESCREVA UM PROGRAMA PARA IMPRIMIR OS NÚMEROS PARES DE UMA DETERMINADA LISTA."
      ],
      "metadata": {
        "id": "pvMo4F1rdPKy"
      }
    },
    {
      "cell_type": "code",
      "source": [
        "def numeros_pares(lista):\n",
        "  lista_pares=[]\n",
        "  print(f'A lista inserida é: {lista}')\n",
        "  for num in lista:\n",
        "    if num%2==0:\n",
        "      lista_pares.append(num)\n",
        "      \n",
        "  return print(f'Os numeros pares da lista são: {lista_pares}')\n",
        "\n",
        "lista1=[1,2,3,4,5,6,7,8,9,10]\n",
        "\n",
        "numeros_pares(lista1)"
      ],
      "metadata": {
        "id": "asBo6-E8dSKX",
        "colab": {
          "base_uri": "https://localhost:8080/"
        },
        "outputId": "fdbc8e5a-b7c1-465c-a5d2-d8d6149a9db1"
      },
      "execution_count": null,
      "outputs": [
        {
          "output_type": "stream",
          "name": "stdout",
          "text": [
            "A lista inserida é: [1, 2, 3, 4, 5, 6, 7, 8, 9, 10]\n",
            "Os numeros pares da lista são: [2, 4, 6, 8, 10]\n"
          ]
        }
      ]
    },
    {
      "cell_type": "markdown",
      "source": [
        "##99.ESCREVA UMA FUNÇÃO PARA CRIAR E IMPRIMIR UMA L ISTA ONDE OS VALORES SÃO QUADRADOS DE NÚMEROS ENTRE 1 E 30 (AMBOS INCLUÍDOS).\n"
      ],
      "metadata": {
        "id": "hDUlTtOgdUmj"
      }
    },
    {
      "cell_type": "code",
      "source": [
        "def quadrados():\n",
        "  lista1a30=[]\n",
        "  listaquadrado=[]\n",
        "  for num in range(1,30+1):\n",
        "    lista1a30.append(num)\n",
        "  for i in lista1a30:\n",
        "    x=i**2\n",
        "    listaquadrado.append(x)\n",
        "  print(lista1a30)\n",
        "  print(listaquadrado)\n",
        "\n",
        "\n",
        "quadrados()\n"
      ],
      "metadata": {
        "id": "BgGtLaNzdWy4",
        "colab": {
          "base_uri": "https://localhost:8080/"
        },
        "outputId": "68944307-fbf0-4c17-fdc4-79fa910db3d9"
      },
      "execution_count": null,
      "outputs": [
        {
          "output_type": "stream",
          "name": "stdout",
          "text": [
            "[1, 2, 3, 4, 5, 6, 7, 8, 9, 10, 11, 12, 13, 14, 15, 16, 17, 18, 19, 20, 21, 22, 23, 24, 25, 26, 27, 28, 29, 30]\n",
            "[1, 4, 9, 16, 25, 36, 49, 64, 81, 100, 121, 144, 169, 196, 225, 256, 289, 324, 361, 400, 441, 484, 529, 576, 625, 676, 729, 784, 841, 900]\n"
          ]
        }
      ]
    },
    {
      "cell_type": "markdown",
      "source": [
        "##100.ESCREVA UM PROGRAMA PARA DETECTAR O NÚMERO DE VARIÁVEIS LOCAIS DECLARADAS EM UMA FUNÇÃO."
      ],
      "metadata": {
        "id": "YRuO8VUhdZGj"
      }
    },
    {
      "cell_type": "code",
      "source": [
        "def imprimir():\n",
        "  x= \"teste\"\n",
        "  test=\"variavel\"\n",
        "  print(f'O numero de variaveis é {len(locals())}.') \n",
        "  for n in locals():\n",
        "    print(n)  \n",
        "imprimir()"
      ],
      "metadata": {
        "id": "UHJYWCpJdcBS",
        "colab": {
          "base_uri": "https://localhost:8080/"
        },
        "outputId": "ea12fe70-0b87-423c-a218-baa620cb4731"
      },
      "execution_count": 35,
      "outputs": [
        {
          "output_type": "stream",
          "name": "stdout",
          "text": [
            "O numero de variaceis é 2.\n",
            "x\n",
            "test\n"
          ]
        }
      ]
    }
  ]
}
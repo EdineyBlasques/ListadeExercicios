{
  "nbformat": 4,
  "nbformat_minor": 0,
  "metadata": {
    "colab": {
      "provenance": [],
      "authorship_tag": "ABX9TyPcE1jizAAE58RQKxm7YQkE",
      "include_colab_link": true
    },
    "kernelspec": {
      "name": "python3",
      "display_name": "Python 3"
    },
    "language_info": {
      "name": "python"
    }
  },
  "cells": [
    {
      "cell_type": "markdown",
      "metadata": {
        "id": "view-in-github",
        "colab_type": "text"
      },
      "source": [
        "<a href=\"https://colab.research.google.com/github/EdineyBlasques/ListadeExercicios/blob/main/Ediney_Prova_2%C2%BABimentre.ipynb\" target=\"_parent\"><img src=\"https://colab.research.google.com/assets/colab-badge.svg\" alt=\"Open In Colab\"/></a>"
      ]
    },
    {
      "cell_type": "code",
      "execution_count": 75,
      "metadata": {
        "id": "GtK-5K1xoayK"
      },
      "outputs": [],
      "source": [
        "import pandas as pd"
      ]
    },
    {
      "cell_type": "code",
      "source": [
        "funcionarios=pd.read_csv(\"funcionarios.csv\")"
      ],
      "metadata": {
        "id": "TMiXQ2jfpuf2"
      },
      "execution_count": 76,
      "outputs": []
    },
    {
      "cell_type": "code",
      "source": [
        "funcionarios.head()"
      ],
      "metadata": {
        "colab": {
          "base_uri": "https://localhost:8080/",
          "height": 206
        },
        "id": "tlKi6SGxp_TE",
        "outputId": "ca109cb9-b473-4bc8-a3ef-33e7ea554017"
      },
      "execution_count": 77,
      "outputs": [
        {
          "output_type": "execute_result",
          "data": {
            "text/plain": [
              "              cpf  matricula     sobrenome     nome  \\\n",
              "0  931.537.599-93  201309864   Castellanos    Carol   \n",
              "1  364.499.792-29  200820853           Law   Esther   \n",
              "2  745.251.246-47  201736456        Miller   Thomas   \n",
              "3  825.847.582-24  201018824       Escobar    Kevin   \n",
              "4  396.646.311-55  201720534        Fisher    Aaron   \n",
              "\n",
              "                                email           data de ingresso  \n",
              "0   carol.castellanos@incolume.com.br   Wed Sep 25 09:02:28 2013  \n",
              "1          esther.law@incolume.com.br   Thu Jul 10 12:20:56 2008  \n",
              "2       thomas.miller@incolume.com.br   Sat Jan 21 09:45:38 2017  \n",
              "3       kevin.escobar@incolume.com.br   Tue Sep 21 23:21:39 2010  \n",
              "4        aaron.fisher@incolume.com.br   Sat Apr 29 07:40:15 2017  "
            ],
            "text/html": [
              "\n",
              "  <div id=\"df-65817a31-7c77-4116-8921-75078ed240d6\">\n",
              "    <div class=\"colab-df-container\">\n",
              "      <div>\n",
              "<style scoped>\n",
              "    .dataframe tbody tr th:only-of-type {\n",
              "        vertical-align: middle;\n",
              "    }\n",
              "\n",
              "    .dataframe tbody tr th {\n",
              "        vertical-align: top;\n",
              "    }\n",
              "\n",
              "    .dataframe thead th {\n",
              "        text-align: right;\n",
              "    }\n",
              "</style>\n",
              "<table border=\"1\" class=\"dataframe\">\n",
              "  <thead>\n",
              "    <tr style=\"text-align: right;\">\n",
              "      <th></th>\n",
              "      <th>cpf</th>\n",
              "      <th>matricula</th>\n",
              "      <th>sobrenome</th>\n",
              "      <th>nome</th>\n",
              "      <th>email</th>\n",
              "      <th>data de ingresso</th>\n",
              "    </tr>\n",
              "  </thead>\n",
              "  <tbody>\n",
              "    <tr>\n",
              "      <th>0</th>\n",
              "      <td>931.537.599-93</td>\n",
              "      <td>201309864</td>\n",
              "      <td>Castellanos</td>\n",
              "      <td>Carol</td>\n",
              "      <td>carol.castellanos@incolume.com.br</td>\n",
              "      <td>Wed Sep 25 09:02:28 2013</td>\n",
              "    </tr>\n",
              "    <tr>\n",
              "      <th>1</th>\n",
              "      <td>364.499.792-29</td>\n",
              "      <td>200820853</td>\n",
              "      <td>Law</td>\n",
              "      <td>Esther</td>\n",
              "      <td>esther.law@incolume.com.br</td>\n",
              "      <td>Thu Jul 10 12:20:56 2008</td>\n",
              "    </tr>\n",
              "    <tr>\n",
              "      <th>2</th>\n",
              "      <td>745.251.246-47</td>\n",
              "      <td>201736456</td>\n",
              "      <td>Miller</td>\n",
              "      <td>Thomas</td>\n",
              "      <td>thomas.miller@incolume.com.br</td>\n",
              "      <td>Sat Jan 21 09:45:38 2017</td>\n",
              "    </tr>\n",
              "    <tr>\n",
              "      <th>3</th>\n",
              "      <td>825.847.582-24</td>\n",
              "      <td>201018824</td>\n",
              "      <td>Escobar</td>\n",
              "      <td>Kevin</td>\n",
              "      <td>kevin.escobar@incolume.com.br</td>\n",
              "      <td>Tue Sep 21 23:21:39 2010</td>\n",
              "    </tr>\n",
              "    <tr>\n",
              "      <th>4</th>\n",
              "      <td>396.646.311-55</td>\n",
              "      <td>201720534</td>\n",
              "      <td>Fisher</td>\n",
              "      <td>Aaron</td>\n",
              "      <td>aaron.fisher@incolume.com.br</td>\n",
              "      <td>Sat Apr 29 07:40:15 2017</td>\n",
              "    </tr>\n",
              "  </tbody>\n",
              "</table>\n",
              "</div>\n",
              "      <button class=\"colab-df-convert\" onclick=\"convertToInteractive('df-65817a31-7c77-4116-8921-75078ed240d6')\"\n",
              "              title=\"Convert this dataframe to an interactive table.\"\n",
              "              style=\"display:none;\">\n",
              "        \n",
              "  <svg xmlns=\"http://www.w3.org/2000/svg\" height=\"24px\"viewBox=\"0 0 24 24\"\n",
              "       width=\"24px\">\n",
              "    <path d=\"M0 0h24v24H0V0z\" fill=\"none\"/>\n",
              "    <path d=\"M18.56 5.44l.94 2.06.94-2.06 2.06-.94-2.06-.94-.94-2.06-.94 2.06-2.06.94zm-11 1L8.5 8.5l.94-2.06 2.06-.94-2.06-.94L8.5 2.5l-.94 2.06-2.06.94zm10 10l.94 2.06.94-2.06 2.06-.94-2.06-.94-.94-2.06-.94 2.06-2.06.94z\"/><path d=\"M17.41 7.96l-1.37-1.37c-.4-.4-.92-.59-1.43-.59-.52 0-1.04.2-1.43.59L10.3 9.45l-7.72 7.72c-.78.78-.78 2.05 0 2.83L4 21.41c.39.39.9.59 1.41.59.51 0 1.02-.2 1.41-.59l7.78-7.78 2.81-2.81c.8-.78.8-2.07 0-2.86zM5.41 20L4 18.59l7.72-7.72 1.47 1.35L5.41 20z\"/>\n",
              "  </svg>\n",
              "      </button>\n",
              "      \n",
              "  <style>\n",
              "    .colab-df-container {\n",
              "      display:flex;\n",
              "      flex-wrap:wrap;\n",
              "      gap: 12px;\n",
              "    }\n",
              "\n",
              "    .colab-df-convert {\n",
              "      background-color: #E8F0FE;\n",
              "      border: none;\n",
              "      border-radius: 50%;\n",
              "      cursor: pointer;\n",
              "      display: none;\n",
              "      fill: #1967D2;\n",
              "      height: 32px;\n",
              "      padding: 0 0 0 0;\n",
              "      width: 32px;\n",
              "    }\n",
              "\n",
              "    .colab-df-convert:hover {\n",
              "      background-color: #E2EBFA;\n",
              "      box-shadow: 0px 1px 2px rgba(60, 64, 67, 0.3), 0px 1px 3px 1px rgba(60, 64, 67, 0.15);\n",
              "      fill: #174EA6;\n",
              "    }\n",
              "\n",
              "    [theme=dark] .colab-df-convert {\n",
              "      background-color: #3B4455;\n",
              "      fill: #D2E3FC;\n",
              "    }\n",
              "\n",
              "    [theme=dark] .colab-df-convert:hover {\n",
              "      background-color: #434B5C;\n",
              "      box-shadow: 0px 1px 3px 1px rgba(0, 0, 0, 0.15);\n",
              "      filter: drop-shadow(0px 1px 2px rgba(0, 0, 0, 0.3));\n",
              "      fill: #FFFFFF;\n",
              "    }\n",
              "  </style>\n",
              "\n",
              "      <script>\n",
              "        const buttonEl =\n",
              "          document.querySelector('#df-65817a31-7c77-4116-8921-75078ed240d6 button.colab-df-convert');\n",
              "        buttonEl.style.display =\n",
              "          google.colab.kernel.accessAllowed ? 'block' : 'none';\n",
              "\n",
              "        async function convertToInteractive(key) {\n",
              "          const element = document.querySelector('#df-65817a31-7c77-4116-8921-75078ed240d6');\n",
              "          const dataTable =\n",
              "            await google.colab.kernel.invokeFunction('convertToInteractive',\n",
              "                                                     [key], {});\n",
              "          if (!dataTable) return;\n",
              "\n",
              "          const docLinkHtml = 'Like what you see? Visit the ' +\n",
              "            '<a target=\"_blank\" href=https://colab.research.google.com/notebooks/data_table.ipynb>data table notebook</a>'\n",
              "            + ' to learn more about interactive tables.';\n",
              "          element.innerHTML = '';\n",
              "          dataTable['output_type'] = 'display_data';\n",
              "          await google.colab.output.renderOutput(dataTable, element);\n",
              "          const docLink = document.createElement('div');\n",
              "          docLink.innerHTML = docLinkHtml;\n",
              "          element.appendChild(docLink);\n",
              "        }\n",
              "      </script>\n",
              "    </div>\n",
              "  </div>\n",
              "  "
            ]
          },
          "metadata": {},
          "execution_count": 77
        }
      ]
    },
    {
      "cell_type": "code",
      "source": [
        "funcionarios.info()"
      ],
      "metadata": {
        "colab": {
          "base_uri": "https://localhost:8080/"
        },
        "id": "A0KRuhPmqX8k",
        "outputId": "791bafcd-31e3-45ce-b920-f0e0fffe6fc3"
      },
      "execution_count": 78,
      "outputs": [
        {
          "output_type": "stream",
          "name": "stdout",
          "text": [
            "<class 'pandas.core.frame.DataFrame'>\n",
            "RangeIndex: 30 entries, 0 to 29\n",
            "Data columns (total 6 columns):\n",
            " #   Column            Non-Null Count  Dtype \n",
            "---  ------            --------------  ----- \n",
            " 0   cpf               30 non-null     object\n",
            " 1   matricula         30 non-null     int64 \n",
            " 2   sobrenome         30 non-null     object\n",
            " 3   nome              30 non-null     object\n",
            " 4   email             30 non-null     object\n",
            " 5   data de ingresso  30 non-null     object\n",
            "dtypes: int64(1), object(5)\n",
            "memory usage: 1.5+ KB\n"
          ]
        }
      ]
    },
    {
      "cell_type": "code",
      "source": [
        "funcionarios[\"cpf\"]"
      ],
      "metadata": {
        "colab": {
          "base_uri": "https://localhost:8080/"
        },
        "id": "o0r9q5Ngqjyj",
        "outputId": "cc8e0b0a-86b9-49d7-eea4-234ad645d830"
      },
      "execution_count": 79,
      "outputs": [
        {
          "output_type": "execute_result",
          "data": {
            "text/plain": [
              "0     931.537.599-93\n",
              "1     364.499.792-29\n",
              "2     745.251.246-47\n",
              "3     825.847.582-24\n",
              "4     396.646.311-55\n",
              "5     289.450.336-93\n",
              "6     228.143.194-31\n",
              "7     577.374.444-72\n",
              "8     152.652.064-08\n",
              "9     759.153.822-09\n",
              "10    634.152.741-68\n",
              "11    729.411.520-02\n",
              "12    106.592.087-79\n",
              "13    521.826.556-76\n",
              "14    271.977.018-54\n",
              "15    361.704.644-66\n",
              "16    885.562.374-75\n",
              "17    502.959.008-67\n",
              "18    328.167.580-89\n",
              "19    836.147.889-22\n",
              "20    658.564.254-70\n",
              "21    193.871.879-06\n",
              "22    385.877.307-93\n",
              "23    552.580.255-37\n",
              "24    568.047.931-52\n",
              "25    462.449.026-48\n",
              "26    071.967.112-60\n",
              "27    786.647.740-21\n",
              "28    779.505.069-50\n",
              "29    353.741.071-56\n",
              "Name: cpf, dtype: object"
            ]
          },
          "metadata": {},
          "execution_count": 79
        }
      ]
    },
    {
      "cell_type": "code",
      "source": [
        "funcionarios[\"cpf\"]=funcionarios[\"cpf\"].apply(lambda x:x.replace(\".\",\"\"))"
      ],
      "metadata": {
        "id": "KrdHy_peqrWE"
      },
      "execution_count": 80,
      "outputs": []
    },
    {
      "cell_type": "code",
      "source": [
        "funcionarios[\"cpf\"]=funcionarios[\"cpf\"].apply(lambda x:x.replace(\"-\",\"\"))"
      ],
      "metadata": {
        "id": "R41B5lsorDOU"
      },
      "execution_count": 81,
      "outputs": []
    },
    {
      "cell_type": "code",
      "source": [
        "funcionarios[\"cpf\"]"
      ],
      "metadata": {
        "colab": {
          "base_uri": "https://localhost:8080/"
        },
        "id": "rVDA6m5MrHh0",
        "outputId": "83f7d48d-2c0d-4aae-e1cf-d5cc519439e0"
      },
      "execution_count": 82,
      "outputs": [
        {
          "output_type": "execute_result",
          "data": {
            "text/plain": [
              "0     93153759993\n",
              "1     36449979229\n",
              "2     74525124647\n",
              "3     82584758224\n",
              "4     39664631155\n",
              "5     28945033693\n",
              "6     22814319431\n",
              "7     57737444472\n",
              "8     15265206408\n",
              "9     75915382209\n",
              "10    63415274168\n",
              "11    72941152002\n",
              "12    10659208779\n",
              "13    52182655676\n",
              "14    27197701854\n",
              "15    36170464466\n",
              "16    88556237475\n",
              "17    50295900867\n",
              "18    32816758089\n",
              "19    83614788922\n",
              "20    65856425470\n",
              "21    19387187906\n",
              "22    38587730793\n",
              "23    55258025537\n",
              "24    56804793152\n",
              "25    46244902648\n",
              "26    07196711260\n",
              "27    78664774021\n",
              "28    77950506950\n",
              "29    35374107156\n",
              "Name: cpf, dtype: object"
            ]
          },
          "metadata": {},
          "execution_count": 82
        }
      ]
    },
    {
      "cell_type": "code",
      "source": [
        "def votacao_corrupta(voto):\n",
        "  candJubis=(voto*24)//100\n",
        "  candCremil=(voto*35)//100\n",
        "  candMaique=(voto*40)//100\n",
        "  if candMaique<=candCremil:\n",
        "    candCremil=candCremil-1\n",
        "    candMaique=candMaique+1\n",
        "  elif candMaique<=candJubis:\n",
        "    candJubis=candJubis-1\n",
        "    candMaique=candMaique+1\n",
        "  votonulo=voto-candJubis-candCremil-candMaique\n",
        "  print(f\"Jubiscreives: {(candJubis)}\")\n",
        "  print(f\"Cremilson: {(candCremil)}\")\n",
        "  print(f\"Maique Táison: {(candMaique)}\")\n",
        "  print(f\"nulos: {(votonulo)}\")\n",
        "  print('\\nO Ganhador da Eleição é: Maique Táison')"
      ],
      "metadata": {
        "id": "cFeETJFZsD1_"
      },
      "execution_count": 106,
      "outputs": []
    },
    {
      "cell_type": "code",
      "source": [
        "def votacao_correta(cand25,cand38,cand41,nulo):\n",
        "    print(f\"Jubiscreives: {len(cand25)}\")\n",
        "    print(f\"Cremilson: {len(cand38)}\")\n",
        "    print(f\"Maique Táison: {len(cand41)}\")\n",
        "    print(f\"nulos: {len(nulo)}\")\n",
        "\n"
      ],
      "metadata": {
        "id": "Od76zsb27sPc"
      },
      "execution_count": 95,
      "outputs": []
    },
    {
      "cell_type": "code",
      "source": [
        "#rascunho Votação\n",
        "print('Votação para Presidente da Empresa Tal\\n')\n",
        "votos=[]\n",
        "cand25=[]\n",
        "cand38=[]\n",
        "cand41=[]\n",
        "nulo=[]\n",
        "fim=False\n",
        "\n",
        "while fim==False:\n",
        "  votacao=int(input(\"Digite o numero do seu canditado: \"))\n",
        "  if votacao==25:\n",
        "    votos.append(votacao)\n",
        "    cand25.append(votacao)\n",
        "    print(\"A empresa agradeçe a sua colaboração.\\n\")\n",
        "  elif votacao==38:\n",
        "    votos.append(votacao)\n",
        "    cand38.append(votacao)\n",
        "    print(\"A empresa agradeçe a sua colaboração.\\n\")\n",
        "  elif votacao==41:\n",
        "    votos.append(votacao)\n",
        "    cand41.append(votacao)\n",
        "    print(\"A empresa agradeçe a sua colaboração.\\n\")\n",
        "  elif votacao==555512342022:\n",
        "    print(\"\\n****** fim da votação ******\")\n",
        "    Total_votos=len(votos+nulo)\n",
        "    print(f'Total de votos {Total_votos}.')\n",
        "    votacao_corrupta(Total_votos)\n",
        "    fim=True\n",
        "  elif votacao==12342022:\n",
        "    Total_votos=len(votos+nulo)\n",
        "    print(f'Total de votos {Total_votos}.'),\n",
        "    votacao_correta(cand25,cand38,cand41,nulo)\n",
        "    fim=True\n",
        "  else:\n",
        "    nulo.append(0)\n",
        "    print(\"A empresa agradeçe a sua colaboração.\\n\")"
      ],
      "metadata": {
        "id": "hJ3sKzM3rJnz"
      },
      "execution_count": null,
      "outputs": []
    },
    {
      "cell_type": "code",
      "source": [
        "#rascunho ENCONTRAR O CPF\n",
        "cpfvotantes=[]\n",
        "cpf=input(\"digite o CPF do funcionário: \")\n",
        "for num in funcionarios[\"cpf\"]:\n",
        "  if cpf==num:\n",
        "    for i in cpfvotantes:\n",
        "      if i=cpf:\n",
        "        print(\"já votou\")\n",
        "    cpfvotantes.append(num)\n",
        "    print('Achei')    \n",
        "  else:\n",
        "    print(\"não\")\n",
        "\n",
        "print(cpfvotantes)"
      ],
      "metadata": {
        "id": "4Ektu6JL1uTd"
      },
      "execution_count": null,
      "outputs": []
    },
    {
      "cell_type": "code",
      "source": [
        "#Resposta\n",
        "print('Votação para Presidente da Empresa Tal\\n')\n",
        "votos=[]\n",
        "cand25=[]\n",
        "cand38=[]\n",
        "cand41=[]\n",
        "nulo=[]\n",
        "funcionario_votos=[]\n",
        "fim=False\n",
        "\n",
        "cpf=input(\"digite o CPF do funcionário: \")\n",
        "for num in funcionarios[\"cpf\"]:\n",
        "  if cpf==num:\n",
        "    while fim==False:\n",
        "      votacao=int(input(\"Digite o numero do seu canditado: \"))\n",
        "      if votacao==25:\n",
        "        votos.append(votacao)\n",
        "        cand25.append(votacao)\n",
        "        print(\"A empresa agradeçe a sua colaboração.\\n\")\n",
        "      elif votacao==38:\n",
        "        votos.append(votacao)\n",
        "        cand38.append(votacao)\n",
        "        print(\"A empresa agradeçe a sua colaboração.\\n\")\n",
        "      elif votacao==41:\n",
        "        votos.append(votacao)\n",
        "        cand41.append(votacao)\n",
        "        print(\"A empresa agradeçe a sua colaboração.\\n\")\n",
        "      elif votacao==555512342022:\n",
        "        print(\"\\n****** fim da votação ******\\n\")\n",
        "        Total_votos=len(votos+nulo)\n",
        "        print(f'Total de votos {Total_votos}.')\n",
        "        votacao_corrupta(Total_votos)\n",
        "        fim=True\n",
        "      elif votacao==12342022:\n",
        "        print(\"\\n****** fim da votação ******\\n\")\n",
        "        Total_votos=len(votos+nulo)\n",
        "        print(f'Total de votos {Total_votos}.'),\n",
        "        votacao_correta(cand25,cand38,cand41,nulo)\n",
        "        fim=True\n",
        "      else:\n",
        "        nulo.append(0)\n",
        "        print(\"A empresa agradeçe a sua colaboração.\\n\")"
      ],
      "metadata": {
        "colab": {
          "base_uri": "https://localhost:8080/"
        },
        "id": "D5xq60wh9KXz",
        "outputId": "14fe4ca2-f04b-4187-8d6f-bfff341e3162"
      },
      "execution_count": 109,
      "outputs": [
        {
          "output_type": "stream",
          "name": "stdout",
          "text": [
            "Votação para Presidente da Empresa Tal\n",
            "\n",
            "digite o CPF do funcionário: 93153759993\n",
            "Digite o numero do seu canditado: 25\n",
            "A empresa agradeçe a sua colaboração.\n",
            "\n",
            "Digite o numero do seu canditado: 25\n",
            "A empresa agradeçe a sua colaboração.\n",
            "\n",
            "Digite o numero do seu canditado: 25\n",
            "A empresa agradeçe a sua colaboração.\n",
            "\n",
            "Digite o numero do seu canditado: 41\n",
            "A empresa agradeçe a sua colaboração.\n",
            "\n",
            "Digite o numero do seu canditado: 000012342022\n",
            "\n",
            "******fim da votação******\n",
            "\n",
            "Total de votos 4.\n",
            "Jubiscreives: 3\n",
            "Cremilson: 0\n",
            "Maique Táison: 1\n",
            "nulos: 0\n"
          ]
        }
      ]
    }
  ]
}
{
  "nbformat": 4,
  "nbformat_minor": 0,
  "metadata": {
    "colab": {
      "name": "Exercicios Lista I",
      "provenance": [],
      "authorship_tag": "ABX9TyPpF/ERc0L9JlvaFasYhq+W",
      "include_colab_link": true
    },
    "kernelspec": {
      "name": "python3",
      "display_name": "Python 3"
    },
    "language_info": {
      "name": "python"
    }
  },
  "cells": [
    {
      "cell_type": "markdown",
      "metadata": {
        "id": "view-in-github",
        "colab_type": "text"
      },
      "source": [
        "<a href=\"https://colab.research.google.com/github/EdineyBlasques/ListadeExercicios/blob/main/Exercicios_Lista_I.ipynb\" target=\"_parent\"><img src=\"https://colab.research.google.com/assets/colab-badge.svg\" alt=\"Open In Colab\"/></a>"
      ]
    },
    {
      "cell_type": "markdown",
      "source": [
        "#Aula 1"
      ],
      "metadata": {
        "id": "J79kS1N2b-O8"
      }
    },
    {
      "cell_type": "markdown",
      "source": [
        "##1.\tFAÇA UM PROGRAMA QUE LEIA UM NÚMERO INTEIRO E O IMPRIMA."
      ],
      "metadata": {
        "id": "2GNyGd_ccCT3"
      }
    },
    {
      "cell_type": "code",
      "execution_count": null,
      "metadata": {
        "colab": {
          "base_uri": "https://localhost:8080/"
        },
        "id": "J9MywTh5b3N7",
        "outputId": "dfb7d377-eadd-4084-dcf3-a262e1272990"
      },
      "outputs": [
        {
          "output_type": "stream",
          "name": "stdout",
          "text": [
            "Digita um número 5\n",
            "Você digitou o número 5\n"
          ]
        }
      ],
      "source": [
        "x= int(input(\"Digita um número \"))\n",
        "print('Você digitou o número',x)"
      ]
    },
    {
      "cell_type": "markdown",
      "source": [
        "##2.\tFAÇA UM PROGRAMA QUE LEIA UM NÚMERO REAL E O IMPRIMA."
      ],
      "metadata": {
        "id": "drB-a7r2etqe"
      }
    },
    {
      "cell_type": "code",
      "source": [
        "y= float(input('Digite um número '))\n",
        "print('Você digitou o número',y)"
      ],
      "metadata": {
        "colab": {
          "base_uri": "https://localhost:8080/"
        },
        "id": "NBEULykjevNi",
        "outputId": "fa76c27f-148e-4135-ca23-f7679c960e49"
      },
      "execution_count": null,
      "outputs": [
        {
          "output_type": "stream",
          "name": "stdout",
          "text": [
            "Digite um número 10\n",
            "Você digitou o número 10.0\n"
          ]
        }
      ]
    },
    {
      "cell_type": "markdown",
      "source": [
        "##3.\tPEÇA AO USUÁRIO PARA DIGITAR TRÊS VALORES INTEIROS E IMPRIMA A SOMA DELES."
      ],
      "metadata": {
        "id": "BC7KYVBUfYbC"
      }
    },
    {
      "cell_type": "code",
      "source": [
        "a= int(input(\"Digite o primeiro número: \"))\n",
        "b= int(input('Digite o segundo número: '))\n",
        "c= int(input('Digite o terceiro número '))\n",
        "print('A soma dos três números é',a+b+c)"
      ],
      "metadata": {
        "colab": {
          "base_uri": "https://localhost:8080/"
        },
        "id": "WnX1Zz3_fcT3",
        "outputId": "5bfe91e7-67ec-4cb5-b618-4f18b4a3373e"
      },
      "execution_count": null,
      "outputs": [
        {
          "output_type": "stream",
          "name": "stdout",
          "text": [
            "Digite o primeiro número: 5\n",
            "Digite o segundo número: 30\n",
            "Digite o terceiro número 65\n",
            "A soma dos três números é 100\n"
          ]
        }
      ]
    },
    {
      "cell_type": "markdown",
      "source": [
        "##4.\tPEÇA AO USUÁRIO PARA DIGITAR UM NÚMERO REAL E IMPRIMA O RESULTADO DO QUADRADO DESSE NÚMERO."
      ],
      "metadata": {
        "id": "VIzRVtO5gZnJ"
      }
    },
    {
      "cell_type": "code",
      "source": [
        "d=float(input('Digite um número decimal: '))\n",
        "print(d**2)"
      ],
      "metadata": {
        "colab": {
          "base_uri": "https://localhost:8080/"
        },
        "id": "6jBH3eeNgDjy",
        "outputId": "12bd5057-2874-4978-da53-fab1e6966726"
      },
      "execution_count": null,
      "outputs": [
        {
          "output_type": "stream",
          "name": "stdout",
          "text": [
            "Digite um número decimal: 65\n",
            "4225.0\n"
          ]
        }
      ]
    }
  ]
}
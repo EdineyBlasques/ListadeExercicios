{
  "nbformat": 4,
  "nbformat_minor": 0,
  "metadata": {
    "colab": {
      "provenance": [],
      "authorship_tag": "ABX9TyOcaYVN0JqChJwCkkuL1ePQ",
      "include_colab_link": true
    },
    "kernelspec": {
      "name": "python3",
      "display_name": "Python 3"
    },
    "language_info": {
      "name": "python"
    }
  },
  "cells": [
    {
      "cell_type": "markdown",
      "metadata": {
        "id": "view-in-github",
        "colab_type": "text"
      },
      "source": [
        "<a href=\"https://colab.research.google.com/github/EdineyBlasques/ListadeExercicios/blob/main/Atividade_Ediney_Blasques.ipynb\" target=\"_parent\"><img src=\"https://colab.research.google.com/assets/colab-badge.svg\" alt=\"Open In Colab\"/></a>"
      ]
    },
    {
      "cell_type": "markdown",
      "source": [
        "#Atividade 1"
      ],
      "metadata": {
        "id": "fNTibUKK5Oow"
      }
    },
    {
      "cell_type": "markdown",
      "source": [
        "##Escreva um programa que recebe três números e retorna a soma deles,porém se houver números repetidos o valor deles não é contabilizado. Por exemplo, na entrada (1,2,3) a resposta é 6, na entrada (3,2,3) a resposta é 2 e na entrada(3,3,3) a resposta é 0. Evite testes desnecessários"
      ],
      "metadata": {
        "id": "XmJynU7B5SqW"
      }
    },
    {
      "cell_type": "code",
      "execution_count": null,
      "metadata": {
        "colab": {
          "base_uri": "https://localhost:8080/"
        },
        "id": "Cexy1qht5B_y",
        "outputId": "ca68b85a-ee81-4ce1-a6c6-6485d05d0112"
      },
      "outputs": [
        {
          "output_type": "stream",
          "name": "stdout",
          "text": [
            "Digite o primeiro número: 1\n",
            "Digite o segundo número: 2\n",
            "Digite o terceiro número: 3\n",
            "A soma dos números digitados é 6\n"
          ]
        }
      ],
      "source": [
        "while True:\n",
        "  try:\n",
        "    num1=int(input('Digite o primeiro número: '))\n",
        "    num2=int(input('Digite o segundo número: '))\n",
        "    num3=int(input('Digite o terceiro número: '))\n",
        "    break\n",
        "  except ValueError:\n",
        "    print(\"Por favor digite somente numeros. Digite novamente\")\n",
        "if num1!=num2 and num1!=num3 and num2!=num3:\n",
        "  print(f'A soma dos números digitados é {num1+num2+num3}')\n",
        "elif num1==num2 and num1!=num3:\n",
        "  print(f'{(num1,num2,num3)}a resposta é {num3}')\n",
        "else:\n",
        "  if num1==num3 and num1!=num2:\n",
        "    print(f'{(num1,num2,num3)} a resposta é {num2}')\n",
        "  elif num2==num3 and num2!=num1:\n",
        "    print(f'{(num1,num2,num3)} a resposta é {num1}')\n",
        "  else:\n",
        "    print(0)\n",
        " \n"
      ]
    },
    {
      "cell_type": "markdown",
      "source": [
        "#Atividade 2"
      ],
      "metadata": {
        "id": "rlLJ4iic5co6"
      }
    },
    {
      "cell_type": "markdown",
      "source": [
        "##Desenvolva um gerador de tabuada, capaz de gerar a tabuada de qualquer número inteiro entre 1 a 10. O usuário deve informar de qual número ele deseja ver a tabuada. A saída deve ser conforme o exemplo abaixo:"
      ],
      "metadata": {
        "id": "20-tNMXu5j0l"
      }
    },
    {
      "cell_type": "code",
      "source": [
        "i=0\n",
        "while True:\n",
        "  try:\n",
        "    tabuada=int(input('Digite tabuada de qual número deseja visualizar: '))\n",
        "    if tabuada<=10 and tabuada>0:\n",
        "      while i<=10:\n",
        "        x=tabuada*i\n",
        "        print(f'{tabuada}*{i}={x}')\n",
        "        i=i+1\n",
        "    else:\n",
        "      print(\"Por favor digite um numero de 1 a 10\")\n",
        "    break\n",
        "  except ValueError:\n",
        "    print('Você digitou um texto, por favor digite um número')\n"
      ],
      "metadata": {
        "colab": {
          "base_uri": "https://localhost:8080/"
        },
        "id": "Us0Tsifx5knu",
        "outputId": "b12cdd47-a5dc-43e1-d72c-2d2a6c385d5c"
      },
      "execution_count": null,
      "outputs": [
        {
          "output_type": "stream",
          "name": "stdout",
          "text": [
            "Digite tabuada de qual número deseja visualizar: ediney\n",
            "Você digitou um texto, por favor digite um número\n",
            "Digite tabuada de qual número deseja visualizar: 2\n",
            "2*0=0\n",
            "2*1=2\n",
            "2*2=4\n",
            "2*3=6\n",
            "2*4=8\n",
            "2*5=10\n",
            "2*6=12\n",
            "2*7=14\n",
            "2*8=16\n",
            "2*9=18\n",
            "2*10=20\n"
          ]
        }
      ]
    },
    {
      "cell_type": "markdown",
      "source": [
        "#Atividade 3"
      ],
      "metadata": {
        "id": "LK-k8G205sRJ"
      }
    },
    {
      "cell_type": "markdown",
      "source": [
        "##O Sr. Manoel Joaquim expandiu seus negócios para além dos negócios de 1,99 e agora possui uma loja de conveniências. Faça um programa que implemente uma caixa registradora rudimentar. O programa deverá receber um número desconhecido de valores referentes aos preços das mercadorias. Um valor zero deve ser informado pelo operador para indicar o final da compra. O programa deve então mostrar o total da compra e perguntar o valor em dinheiro que o cliente forneceu, para então calcular e mostrar o valor do troco. Após esta operação, o programa deverá voltar ao ponto inicial, para registrar a próxima compra. A saída deve ser conforme o exemplo abaixo"
      ],
      "metadata": {
        "id": "Loi5LZKj5x9g"
      }
    },
    {
      "cell_type": "code",
      "source": [
        "bola=4.00\n",
        "carrinho=2.00\n",
        "boneca=10.00\n",
        "cesta=0.00\n",
        "produto=[]\n",
        "print('---------Loja SMG----------')\n",
        "print(f'Tabela de produto\\n \\n Bola:{(bola):.2f}\\n Carrinho: {(carrinho):.2f}\\n Boneca: {boneca}\\n\\n  ')\n",
        "\n",
        "while True:\n",
        "  x=int(input('Digite 1 para inicar o pedido ou 0 para encerrar o programa. '))\n",
        "  if x==1:\n",
        "      print('Durante a compra, para fechar o pedido, basta DIGITAR 0')\n",
        "      while True:\n",
        "        compra=input('Digite o produto: ')\n",
        "        compra=compra.lower()\n",
        "        if compra=='bola':\n",
        "          cesta=cesta+bola\n",
        "          produto.append(compra)\n",
        "        elif compra== 'carrinho':\n",
        "          cesta=cesta+carrinho\n",
        "          produto.append(compra)\n",
        "        elif compra=='boneca':\n",
        "          cesta=cesta+boneca\n",
        "          produto.append(compra)\n",
        "        elif compra=='0':\n",
        "          print('--------------')\n",
        "          print('Finalizando Pedido')\n",
        "          \n",
        "          break\n",
        "      print('\\n----Resumo do pedido----')\n",
        "      for i in produto:\n",
        "        print(i)\n",
        "      print('\\n------------------------')  \n",
        "      print(f'Valor da Total: R$ {(cesta):.2f}')\n",
        "      pgmt=float(input('\\n Valor pago em dinheiro: '))\n",
        "      if pgmt>cesta:\n",
        "        print(f'Troco: R$ {(pgmt-cesta):.2f}')\n",
        "        print('\\n OBRIGADO PELA PREFERÊNCIA. VOLTE SEMPRE! \\n')\n",
        "      elif pgmt==cesta:\n",
        "        print(f'Troco: R$ 0,00')\n",
        "        print('\\n OBRIGADO PELA PREFERÊNCIA. VOLTE SEMPRE! \\n')\n",
        "      elif pgmt<cesta:\n",
        "        print(f'Dinheiro insuficiente, esta fantando R$ {(cesta-pgmt):.2f}')\n",
        "  elif x==0:\n",
        "    print('Programa finalizado')\n",
        "    break"
      ],
      "metadata": {
        "colab": {
          "base_uri": "https://localhost:8080/"
        },
        "id": "x-lSeT7P5ttp",
        "outputId": "1d3fc4ec-3ab1-4be8-f8a6-808362bb2747"
      },
      "execution_count": null,
      "outputs": [
        {
          "output_type": "stream",
          "name": "stdout",
          "text": [
            "---------Loja SMG----------\n",
            "Tabela de produto\n",
            " \n",
            " Bola:4.00\n",
            " Carrinho: 2.00\n",
            " Boneca: 10.0\n",
            "\n",
            "  \n",
            "Digite 1 para inicar o pedido ou 0 para encerrar o programa. 1\n",
            "Durante a compra, para fechar o pedido, basta DIGITAR 0\n",
            "Digite o produto: bola\n",
            "Digite o produto: carrinho\n",
            "Digite o produto: 0\n",
            "--------------\n",
            "Finalizando Pedido\n",
            "\n",
            "----Resumo do pedido----\n",
            "bola\n",
            "carrinho\n",
            "\n",
            "------------------------\n",
            "Valor da Total: R$ 6.00\n",
            "\n",
            " Valor pago em dinheiro: 6\n",
            "Troco: R$ 0,00\n",
            "\n",
            " OBRIGADO PELA PREFERÊNCIA. VOLTE SEMPRE! \n",
            "\n",
            "Digite 1 para inicar o pedido ou 0 para encerrar o programa. 0\n",
            "Programa finalizado\n"
          ]
        }
      ]
    },
    {
      "cell_type": "markdown",
      "source": [
        "#Atividade 4"
      ],
      "metadata": {
        "id": "HraDFEic6DdR"
      }
    },
    {
      "cell_type": "markdown",
      "source": [
        "##Faça um programa para um caixa eletrônico. O programa deverá perguntar ao usuário o valor do saque e depois informar quantas notas de cada valor serão fornecidas. As notas disponíveis serão as de 1, 5, 10, 50 e 100 reais. O valor mínimo é de 10 reais e o máximo de 600 reais. O programa não deve se preocupar com a quantidade de notas existentes na máquina. Exemplo 1: Para sacar a quantia de 256 reais, o programa fornece duas notas de 100, uma nota de 50, uma nota de 5 e uma nota de 1; Exemplo 2: Para sacar a quantia de 399 reais, o programa fornece três notas de 100, uma nota de 50, quatro notas de 10, uma nota de 5 e quatro notas de 1."
      ],
      "metadata": {
        "id": "SIxbC9Mm6HVk"
      }
    },
    {
      "cell_type": "code",
      "source": [
        "saque=int(input('Digite o valor do saque: '))\n",
        "if saque <10 or saque >600:\n",
        "  print('Valor incorreto. Por favor digite o valor entre R$10,00 a R$600,00')\n",
        "else:\n",
        "  cem=saque//100\n",
        "  resto1=saque%100\n",
        "  cinquenta=resto1//50\n",
        "  resto2=resto1%50\n",
        "  dez=resto2//10\n",
        "  resto3=resto2%10\n",
        "  cinco=resto3//5\n",
        "  resto4=resto3%5\n",
        "  um=resto4//1\n",
        "  resto5=resto4%1\n",
        "  print(f'\\n você irá sacar:')\n",
        "  print(f'\\n {cem} notas de R$ 100,00 \\n {cinquenta} notas de R$ 50,00 \\n {dez} notas de R$ 10,00 \\n {cinco} notas de R$ 5,00 \\n {um} notas de R$ 1,00')"
      ],
      "metadata": {
        "colab": {
          "base_uri": "https://localhost:8080/"
        },
        "id": "BiVwI8lC7eWI",
        "outputId": "aad8298f-45bc-4aa0-ee0c-43afd15e6e5b"
      },
      "execution_count": null,
      "outputs": [
        {
          "output_type": "stream",
          "name": "stdout",
          "text": [
            "Digite o valor do saque: 399\n",
            "\n",
            " você irá sacar:\n",
            "\n",
            " 3 notas de R$ 100,00 \n",
            " 1 notas de R$ 50,00 \n",
            " 4 notas de R$ 10,00 \n",
            " 1 notas de R$ 5,00 \n",
            " 4 notas de R$ 1,00\n"
          ]
        }
      ]
    }
  ]
}